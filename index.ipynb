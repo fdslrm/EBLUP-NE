{
 "cells": [
  {
   "cell_type": "markdown",
   "metadata": {},
   "source": [
    "**Authors:** Andrej Gajdoš, Jozef Hanč, Martina Hančová  <br> *[Faculty of Science](https://www.upjs.sk/en/faculty-of-science/?prefferedLang=EN), P. J. Šafárik University in Košice, Slovakia* <br> email: [andrej.gajdos@student.upjs.sk](mailto:andrej.gajdos@student.upjs.sk), [martina.hancova@upjs.sk](mailto:martina.hancova@upjs.sk)\n",
    "***\n",
    "**<font size=6 color=brown> Supplementary materials  for EBLUP-NE</font>**   \n",
    "\n",
    "Estimating variances in FDSLRMs via EBLUPs and convex optimization\n",
    "\n",
    "***\n",
    "## <font color=brown> Index </font>\n",
    "\n",
    "### Electricity consumption - toy model 1 \n",
    "   * [PY-estimation-electricity1-SciPyCVXPY.ipynb](PYnotebooks/PY-estimation-electricity1-SciPyCVXPY.ipynb), EBLUP-NE in *SciPy, CVXPY* \n",
    "   * [PY-estimation-electricity1-SageMath.ipynb](PYnotebooks/PY-estimation-electricity1-SageMath.ipynb), EBLUP-NE in *SageMath*\n",
    "   * [R-estimation-electricity1-CVXR.ipynb](Rnotebooks/R-estimation-electricity1-CVXR.ipynb), EBLUP-NE in *CVXR* \n",
    "   * [R-estimation-electricity1-standardRtools.ipynb](Rnotebooks/R-estimation-electricity1-standardRtools.ipynb), EBLUP-NE in *nlme, MMEinR, sommer, fdslrm* \n",
    "   \n",
    "###  Electricity consumption - toy model 2 \n",
    "   * [PY-estimation-electricity2-SciPyCVXPY.ipynb](PYnotebooks/PY-estimation-electricity2-SciPyCVXPY.ipynb), EBLUP-NE in *SciPy, CVXPY* \n",
    "   * [PY-estimation-electricity2-SageMath.ipynb](PYnotebooks/PY-estimation-electricity2-SageMath.ipynb), EBLUP-NE in *SageMath*\n",
    "   * [R-estimation-electricity2-CVXR.ipynb](Rnotebooks/R-estimation-electricity2-CVXR.ipynb), EBLUP-NE in *CVXR* \n",
    "   * [R-estimation-electricity2-standardRtools.ipynb](Rnotebooks/R-estimation-electricity2-standardRtools.ipynb), EBLUP-NE in *nlme, MMEinR, sommer, fdslrm* \n",
    "\n",
    "\n",
    "###  Tourism \n",
    "   * [tourism.ipynb](Modeling/tourism.ipynb), FDSLRM modeling in *R* \n",
    "   * [PY-estimation-tourism-SciPyCVXPY.ipynb](PYnotebooks/PY-estimation-tourism-SciPyCVXPY.ipynb), EBLUP-NE in *SciPy*, *CVXPY* \n",
    "   * [R-estimation-tourism-CVXR.ipynb](Rnotebooks/R-estimation-tourism-CVXR.ipynb), EBLUP-NE in *CVXR*\n",
    "   * [R-estimation-tourism-standardRtools.ipynb](Rnotebooks/R-estimation-tourism-standardRtools.ipynb), EBLUP-NE in *nlme, MMEinR, sommer, fdslrm*\n",
    "\n",
    "###  Cyber attacks \n",
    "   * [cyberattacks.ipynb](Modeling/cyberattacks.ipynb), FDSLRM modeling in *R* \n",
    "   * [PY-estimation-cyberattacks-SciPyCVXPY.ipynb](PYnotebooks/PY-estimation-cyberattacks-SciPyCVXPY.ipynb), EBLUP-NE in *SciPy*, *CVXPY*\n",
    "   * [R-estimation-cyberattacks-CVXR.ipynb](Rnotebooks/R-estimation-cyberattacks-CVXR.ipynb), EBLUP-NE in *CVXR*\n",
    "   * [R-estimation-cyberattacks-standardRtools.ipynb](Rnotebooks/R-estimation-cyberattacks-standardRtools.ipynb), EBLUP-NE in *nlme, MMEinR, sommer, fdslrm*"
   ]
  },
  {
   "cell_type": "markdown",
   "metadata": {},
   "source": [
    "***\n",
    "<a id=references></a>\n",
    "# <font color=brown> References </font>\n",
    "This notebook belongs to suplementary materials of the paper submitted to [Statistical Papers](https://link.springer.com/journal/362) and available at <https://arxiv.org/abs/1905.07771>.\n",
    "\n",
    "* Hančová, M., Vozáriková, G., Gajdoš, A., Hanč, J. (2019). [Estimating variance components in time series\n",
    "\tlinear regression models using empirical BLUPs and convex optimization](https://arxiv.org/abs/1905.07771), https://arxiv.org/, 2019.\n",
    "\n",
    "### Abstract of the paper\n",
    "\n",
    "We propose a two-stage estimation method of variance components in time series models known as FDSLRMs, whose observations can be described by a linear mixed model (LMM). We based estimating variances, fundamental quantities in a time series forecasting approach called kriging, on the empirical (plug-in) best linear unbiased predictions of unobservable random components in FDSLRM. \n",
    "\n",
    "The method, providing invariant non-negative quadratic estimators, can be used for any absolutely continuous probability distribution of time series data. As a result of applying the convex optimization and the LMM methodology, we resolved two problems $-$ theoretical existence and equivalence between least squares estimators, non-negative (M)DOOLSE, and maximum likelihood estimators, (RE)MLE, as possible starting points of our method and a \n",
    "practical lack of computational implementation for FDSLRM. As for computing (RE)MLE in the case of $ n $ observed time series values, we also discovered a new algorithm of order $\\mathcal{O}(n)$, which at the default precision is $10^7$ times more accurate and $n^2$ times faster than the best current Python(or R)-based computational packages, namely CVXPY, CVXR, nlme, sommer and mixed. \n",
    "\n",
    "We illustrate our results on three real data sets $-$ electricity consumption, tourism and cyber security $-$ which are easily available, reproducible, sharable and modifiable in the form of interactive Jupyter notebooks."
   ]
  },
  {
   "cell_type": "markdown",
   "metadata": {},
   "source": [
    "* Gajdoš A., Hanč J., and Hančová M. (2019). _fdslrm EBLUP-NE_. GitHub repository, P.J. Šafárik University in Košice, Slovakia. https://github.com/fdslrm/EBLUP-NE"
   ]
  }
 ],
 "metadata": {
  "kernelspec": {
   "display_name": "Python 2.7",
   "language": "python",
   "name": "python2"
  },
  "language_info": {
   "codemirror_mode": {
    "name": "ipython",
    "version": 2
   },
   "file_extension": ".py",
   "mimetype": "text/x-python",
   "name": "python",
   "nbconvert_exporter": "python",
   "pygments_lexer": "ipython2",
   "version": "2.7.16"
  }
 },
 "nbformat": 4,
 "nbformat_minor": 2
}
