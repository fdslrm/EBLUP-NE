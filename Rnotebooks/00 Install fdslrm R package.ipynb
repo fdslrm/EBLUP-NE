{
 "cells": [
  {
   "cell_type": "markdown",
   "metadata": {},
   "source": [
    "**Authors:** Andrej Gajdoš, Jozef Hanč, Martina Hančová  <br> *[Faculty of Science](https://www.upjs.sk/en/faculty-of-science/?prefferedLang=EN), P. J. Šafárik University in Košice, Slovakia* <br> email: [andrej.gajdos@student.upjs.sk](mailto:andrej.gajdos@student.upjs.sk)\n",
    "***\n",
    "**<font size=6 color=brown> Installation of fdslrm package</font>** \n",
    "\n",
    "This installation has to be done once before the first run of any R-based Jupyter notebook. \n",
    "\n",
    "**<font size=4> fdslrm: Time series analysis and forecasting using LMM <font>**\n",
    "    \n",
    "* _Purpose_: The fdslrm package is an R package for modeling and prediction of time series using linear mixed models.\n",
    "* _Version_: 0.1.0\n",
    "* _Depends_: kableExtra, IRdisplay, MASS, Matrix, car, nlme, stats, forecast, fpp2, matrixcalc, sommer, gnm, pracma, CVXR\n",
    "* _Published_: 2019\n",
    "* _Maintainer_: Andrej Gajdoš\n",
    "* _URL_: https://github.com/gajdosandrej/fdslrm"
   ]
  },
  {
   "cell_type": "markdown",
   "metadata": {},
   "source": [
    "## $1^{st}$ step - setting path to a repository"
   ]
  },
  {
   "cell_type": "code",
   "execution_count": 1,
   "metadata": {},
   "outputs": [],
   "source": [
    "options(repos = 'http://cran.rstudio.com/')"
   ]
  },
  {
   "cell_type": "markdown",
   "metadata": {},
   "source": [
    "## $2^{nd}$ step - installation of devtools package"
   ]
  },
  {
   "cell_type": "code",
   "execution_count": 2,
   "metadata": {
    "collapsed": true
   },
   "outputs": [
    {
     "name": "stderr",
     "output_type": "stream",
     "text": [
      "also installing the dependencies 'ini', 'desc', 'rprojroot', 'xopen', 'clisymbols', 'gh', 'git2r', 'memoise', 'pkgbuild', 'pkgload', 'rcmdcheck', 'remotes', 'sessioninfo', 'usethis'\n",
      "\n"
     ]
    },
    {
     "name": "stdout",
     "output_type": "stream",
     "text": [
      "package 'ini' successfully unpacked and MD5 sums checked\n",
      "package 'desc' successfully unpacked and MD5 sums checked\n",
      "package 'rprojroot' successfully unpacked and MD5 sums checked\n",
      "package 'xopen' successfully unpacked and MD5 sums checked\n",
      "package 'clisymbols' successfully unpacked and MD5 sums checked\n",
      "package 'gh' successfully unpacked and MD5 sums checked\n",
      "package 'git2r' successfully unpacked and MD5 sums checked\n",
      "package 'memoise' successfully unpacked and MD5 sums checked\n",
      "package 'pkgbuild' successfully unpacked and MD5 sums checked\n",
      "package 'pkgload' successfully unpacked and MD5 sums checked\n",
      "package 'rcmdcheck' successfully unpacked and MD5 sums checked\n",
      "package 'remotes' successfully unpacked and MD5 sums checked\n",
      "package 'sessioninfo' successfully unpacked and MD5 sums checked\n",
      "package 'usethis' successfully unpacked and MD5 sums checked\n",
      "package 'devtools' successfully unpacked and MD5 sums checked\n",
      "\n",
      "The downloaded binary packages are in\n",
      "\tC:\\Users\\jozef\\AppData\\Local\\Temp\\RtmpmqKhEf\\downloaded_packages\n"
     ]
    }
   ],
   "source": [
    "install.packages('devtools')"
   ]
  },
  {
   "cell_type": "markdown",
   "metadata": {},
   "source": [
    "## $3^{rd}$ step - installation of fdslrm package from GitHub"
   ]
  },
  {
   "cell_type": "code",
   "execution_count": 3,
   "metadata": {
    "collapsed": true
   },
   "outputs": [
    {
     "name": "stderr",
     "output_type": "stream",
     "text": [
      "Downloading GitHub repo gajdosandrej/fdslrm@master\n"
     ]
    },
    {
     "name": "stdout",
     "output_type": "stream",
     "text": [
      "abind        (NA     -> 1.4-5      ) [CRAN]\n",
      "bit          (NA     -> 1.1-14     ) [CRAN]\n",
      "bit64        (NA     -> 0.9-7      ) [CRAN]\n",
      "car          (NA     -> 3.0-2      ) [CRAN]\n",
      "carData      (NA     -> 3.0-2      ) [CRAN]\n",
      "CVXR         (NA     -> 0.99-5     ) [CRAN]\n",
      "ECOSolveR    (NA     -> 0.5.2      ) [CRAN]\n",
      "expsmooth    (NA     -> 2.3        ) [CRAN]\n",
      "fma          (NA     -> 2.3        ) [CRAN]\n",
      "forecast     (NA     -> 8.7        ) [CRAN]\n",
      "fpp2         (NA     -> 2.3        ) [CRAN]\n",
      "fracdiff     (NA     -> 1.4-2      ) [CRAN]\n",
      "gmp          (NA     -> 0.5-13.5   ) [CRAN]\n",
      "gnm          (NA     -> 1.1-0      ) [CRAN]\n",
      "kableExtra   (NA     -> 1.1.0      ) [CRAN]\n",
      "knitr        (1.22   -> 1.23       ) [CRAN]\n",
      "lme4         (NA     -> 1.1-21     ) [CRAN]\n",
      "lmtest       (NA     -> 0.9-37     ) [CRAN]\n",
      "maptools     (NA     -> 0.9-5      ) [CRAN]\n",
      "matrixcalc   (NA     -> 1.0-3      ) [CRAN]\n",
      "MatrixModels (NA     -> 0.4-1      ) [CRAN]\n",
      "minqa        (NA     -> 1.2.4      ) [CRAN]\n",
      "nloptr       (NA     -> 1.2.1      ) [CRAN]\n",
      "openxlsx     (NA     -> 4.1.0      ) [CRAN]\n",
      "pbkrtest     (NA     -> 0.4-7      ) [CRAN]\n",
      "pracma       (NA     -> 2.2.5      ) [CRAN]\n",
      "progress     (1.2.1  -> 1.2.2      ) [CRAN]\n",
      "quadprog     (NA     -> 1.5-7      ) [CRAN]\n",
      "quantmod     (0.4-13 -> 0.4-14     ) [CRAN]\n",
      "quantreg     (NA     -> 5.38       ) [CRAN]\n",
      "qvcalc       (NA     -> 1.0.0      ) [CRAN]\n",
      "R.methodsS3  (NA     -> 1.7.1      ) [CRAN]\n",
      "R.oo         (NA     -> 1.22.0     ) [CRAN]\n",
      "R.utils      (NA     -> 2.8.0      ) [CRAN]\n",
      "RcppArmad... (NA     -> 0.9.400.3.0) [CRAN]\n",
      "RcppEigen    (NA     -> 0.3.3.5.0  ) [CRAN]\n",
      "relimp       (NA     -> 1.0-5      ) [CRAN]\n",
      "rio          (NA     -> 0.5.16     ) [CRAN]\n",
      "Rmpfr        (NA     -> 0.7-2      ) [CRAN]\n",
      "rvest        (0.3.3  -> 0.3.4      ) [CRAN]\n",
      "scs          (NA     -> 1.2-3      ) [CRAN]\n",
      "sommer       (NA     -> 3.9.3      ) [CRAN]\n",
      "sp           (NA     -> 1.3-1      ) [CRAN]\n",
      "SparseM      (NA     -> 1.77       ) [CRAN]\n",
      "tseries      (NA     -> 0.10-46    ) [CRAN]\n",
      "urca         (NA     -> 1.3-0      ) [CRAN]\n",
      "webshot      (NA     -> 0.5.1      ) [CRAN]\n",
      "xts          (0.11-1 -> 0.11-2     ) [CRAN]\n",
      "zip          (NA     -> 2.0.2      ) [CRAN]\n"
     ]
    },
    {
     "name": "stderr",
     "output_type": "stream",
     "text": [
      "Installing 49 packages: abind, bit, bit64, car, carData, CVXR, ECOSolveR, expsmooth, fma, forecast, fpp2, fracdiff, gmp, gnm, kableExtra, knitr, lme4, lmtest, maptools, matrixcalc, MatrixModels, minqa, nloptr, openxlsx, pbkrtest, pracma, progress, quadprog, quantmod, quantreg, qvcalc, R.methodsS3, R.oo, R.utils, RcppArmadillo, RcppEigen, relimp, rio, Rmpfr, rvest, scs, sommer, sp, SparseM, tseries, urca, webshot, xts, zip\n"
     ]
    },
    {
     "name": "stdout",
     "output_type": "stream",
     "text": [
      "\n",
      "  There are binary versions available but the source versions are later:\n",
      "         binary source needs_compilation\n",
      "knitr      1.22   1.23             FALSE\n",
      "progress  1.2.1  1.2.2             FALSE\n",
      "rvest     0.3.3  0.3.4             FALSE\n",
      "\n",
      "package 'abind' successfully unpacked and MD5 sums checked\n",
      "package 'bit' successfully unpacked and MD5 sums checked\n",
      "package 'bit64' successfully unpacked and MD5 sums checked\n",
      "package 'car' successfully unpacked and MD5 sums checked\n",
      "package 'carData' successfully unpacked and MD5 sums checked\n",
      "package 'CVXR' successfully unpacked and MD5 sums checked\n",
      "package 'ECOSolveR' successfully unpacked and MD5 sums checked\n",
      "package 'expsmooth' successfully unpacked and MD5 sums checked\n",
      "package 'fma' successfully unpacked and MD5 sums checked\n",
      "package 'forecast' successfully unpacked and MD5 sums checked\n",
      "package 'fpp2' successfully unpacked and MD5 sums checked\n",
      "package 'fracdiff' successfully unpacked and MD5 sums checked\n",
      "package 'gmp' successfully unpacked and MD5 sums checked\n",
      "package 'gnm' successfully unpacked and MD5 sums checked\n",
      "package 'kableExtra' successfully unpacked and MD5 sums checked\n",
      "package 'lme4' successfully unpacked and MD5 sums checked\n",
      "package 'lmtest' successfully unpacked and MD5 sums checked\n",
      "package 'maptools' successfully unpacked and MD5 sums checked\n",
      "package 'matrixcalc' successfully unpacked and MD5 sums checked\n",
      "package 'MatrixModels' successfully unpacked and MD5 sums checked\n",
      "package 'minqa' successfully unpacked and MD5 sums checked\n",
      "package 'nloptr' successfully unpacked and MD5 sums checked\n",
      "package 'openxlsx' successfully unpacked and MD5 sums checked\n",
      "package 'pbkrtest' successfully unpacked and MD5 sums checked\n",
      "package 'pracma' successfully unpacked and MD5 sums checked\n",
      "package 'quadprog' successfully unpacked and MD5 sums checked\n",
      "package 'quantmod' successfully unpacked and MD5 sums checked\n",
      "package 'quantreg' successfully unpacked and MD5 sums checked\n",
      "package 'qvcalc' successfully unpacked and MD5 sums checked\n",
      "package 'R.methodsS3' successfully unpacked and MD5 sums checked\n",
      "package 'R.oo' successfully unpacked and MD5 sums checked\n",
      "package 'R.utils' successfully unpacked and MD5 sums checked\n",
      "package 'RcppArmadillo' successfully unpacked and MD5 sums checked\n",
      "package 'RcppEigen' successfully unpacked and MD5 sums checked\n",
      "package 'relimp' successfully unpacked and MD5 sums checked\n",
      "package 'rio' successfully unpacked and MD5 sums checked\n",
      "package 'Rmpfr' successfully unpacked and MD5 sums checked\n",
      "package 'scs' successfully unpacked and MD5 sums checked\n",
      "package 'sommer' successfully unpacked and MD5 sums checked\n",
      "package 'sp' successfully unpacked and MD5 sums checked\n",
      "package 'SparseM' successfully unpacked and MD5 sums checked\n",
      "package 'tseries' successfully unpacked and MD5 sums checked\n",
      "package 'urca' successfully unpacked and MD5 sums checked\n",
      "package 'webshot' successfully unpacked and MD5 sums checked\n",
      "package 'xts' successfully unpacked and MD5 sums checked\n",
      "package 'zip' successfully unpacked and MD5 sums checked\n",
      "\n",
      "The downloaded binary packages are in\n",
      "\tC:\\Users\\jozef\\AppData\\Local\\Temp\\RtmpmqKhEf\\downloaded_packages\n"
     ]
    },
    {
     "name": "stderr",
     "output_type": "stream",
     "text": [
      "installing the source packages 'knitr', 'progress', 'rvest'\n",
      "\n",
      "WARNING: Rtools is required to build R packages, but is not currently installed.\n",
      "\n",
      "Please download and install Rtools 3.5 from http://cran.r-project.org/bin/windows/Rtools/.\n"
     ]
    },
    {
     "name": "stdout",
     "output_type": "stream",
     "text": [
      "\u001b[32mv\u001b[39m  \u001b[90mchecking for file 'C:\\Users\\jozef\\AppData\\Local\\Temp\\RtmpmqKhEf\\remotes2a44356a51f\\gajdosandrej-fdslrm-10a3b8a/DESCRIPTION'\u001b[39m\u001b[36m\u001b[39m\n",
      "\u001b[90m-\u001b[39m\u001b[90m  \u001b[39m\u001b[90mpreparing 'fdslrm':\u001b[39m\u001b[36m\u001b[39m\n",
      "\u001b[32mv\u001b[39m  \u001b[90mchecking DESCRIPTION meta-information\u001b[39m\u001b[36m\u001b[39m\n",
      "\u001b[90m-\u001b[39m\u001b[90m  \u001b[39m\u001b[90mchecking for LF line-endings in source and make files and shell scripts\u001b[39m\u001b[36m\u001b[39m\n",
      "\u001b[90m-\u001b[39m\u001b[90m  \u001b[39m\u001b[90mchecking for empty or unneeded directories\u001b[39m\u001b[36m\u001b[39m\n",
      "\u001b[90m-\u001b[39m\u001b[90m  \u001b[39m\u001b[90mbuilding 'fdslrm_0.1.0.tar.gz'\u001b[39m\u001b[36m\u001b[39m\n",
      "   \n",
      "\r"
     ]
    }
   ],
   "source": [
    "devtools::install_github(\"gajdosandrej/fdslrm\")"
   ]
  },
  {
   "cell_type": "markdown",
   "metadata": {},
   "source": [
    "***\n",
    "<a id=references></a>\n",
    "# <font color=brown> References </font>\n",
    "This notebook belongs to suplementary materials of the paper submitted to Statistical Papers and available at <https://arxiv.org/abs/1905.07771>.\n",
    "\n",
    "* Hančová, M., Vozáriková, G., Gajdoš, A., Hanč, J. (2019). [Estimating variance components in time series\n",
    "\tlinear regression models using empirical BLUPs and convex optimization](https://arxiv.org/abs/1905.07771), https://arxiv.org/, 2019.\n",
    "\n",
    "### Abstract of the paper\n",
    "\n",
    "We propose a two-stage estimation method of variance components in time series models known as FDSLRMs, whose observations can be described by a linear mixed model (LMM). We based estimating variances, fundamental quantities in a time series forecasting approach called kriging, on the empirical (plug-in) best linear unbiased predictions of unobservable random components in FDSLRM. \n",
    "\n",
    "The method, providing invariant non-negative quadratic estimators, can be used for any absolutely continuous probability distribution of time series data. As a result of applying the convex optimization and the LMM methodology, we resolved two problems $-$ theoretical existence and equivalence between least squares estimators, non-negative (M)DOOLSE, and maximum likelihood estimators, (RE)MLE, as possible starting points of our method and a \n",
    "practical lack of computational implementation for FDSLRM. As for computing (RE)MLE in the case of $ n $ observed time series values, we also discovered a new algorithm of order $\\mathcal{O}(n)$, which at the default precision is $10^7$ times more accurate and $n^2$ times faster than the best current Python(or R)-based computational packages, namely CVXPY, CVXR, nlme, sommer and mixed. \n",
    "\n",
    "We illustrate our results on three real data sets $-$ electricity consumption, tourism and cyber security $-$ which are easily available, reproducible, sharable and modifiable in the form of interactive Jupyter notebooks."
   ]
  },
  {
   "cell_type": "markdown",
   "metadata": {},
   "source": [
    "* Gajdoš A., Hanč J., and Hančová M. (2019). _fdslrm package_. P.J. Šafárik University in Košice, Slovakia. https://github.com/fdslrm/R-package."
   ]
  }
 ],
 "metadata": {
  "kernelspec": {
   "display_name": "R",
   "language": "R",
   "name": "ir"
  },
  "language_info": {
   "codemirror_mode": "r",
   "file_extension": ".r",
   "mimetype": "text/x-r-source",
   "name": "R",
   "pygments_lexer": "r",
   "version": "3.5.1"
  }
 },
 "nbformat": 4,
 "nbformat_minor": 2
}
