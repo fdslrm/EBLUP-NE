{
 "cells": [
  {
   "cell_type": "markdown",
   "metadata": {},
   "source": [
    "| [Table of Contents](#table_of_contents) | [Data and model](#data_and_model) | [Natural estimators](#natural_estimators) |  [NN-DOOLSE, MLE](#doolse) | [NN-MDOOLSE, REMLE](#mdoolse) | [References](#references) |"
   ]
  },
  {
   "cell_type": "markdown",
   "metadata": {},
   "source": [
    "**Authors:** Jozef Hanč, Martina Hančová, Andrej Gajdoš  <br> *[Faculty of Science](https://www.upjs.sk/en/faculty-of-science/?prefferedLang=EN), P. J. Šafárik University in Košice, Slovakia* <br> emails: [martina.hancova@upjs.sk](mailto:martina.hancova@upjs.sk)\n",
    "***\n",
    "**<font size=6 color=brown> EBLUP-NE for electricity consumption 1</font>**  "
   ]
  },
  {
   "cell_type": "markdown",
   "metadata": {},
   "source": [
    "<font size=4> Python-based computational tools - </font>  **<font size=4>SciPy, CVXPY</font>**  \n",
    "<a id=table_of_contents></a>\n",
    "###  Table of Contents \n",
    "* [Data and model](#data_and_model) - data and model description of empirical data\n",
    "* [Natural estimators](#natural_estimators) - EBLUPNE based on NE\n",
    "* [NN-DOOLSE, MLE](#doolse) - EBLUPNE based on nonnegative DOOLSE (same as MLE)\n",
    "* [NN-MDOOLSE, REMLE](#mdoolse) - EBLUPNE based on nonnegative MDOOLSE (same as REMLE)\n",
    "* [References](#references)\n",
    "\n",
    "**To get back to the contents, use <font color=brown>the Home key</font>.**"
   ]
  },
  {
   "cell_type": "markdown",
   "metadata": {},
   "source": [
    "## Python libraries"
   ]
  },
  {
   "cell_type": "markdown",
   "metadata": {},
   "source": [
    "## CVXPY: A Python-Embedded Modeling Language for Convex Optimization \n",
    "\n",
    "* _Purpose_: scientific Python library for solving convex optimization tasks\n",
    "* _Version_: 1.0.1, 2018\n",
    "* _URL_: https://www.cvxpy.org/\n",
    "* _Computational parameters_ of CVXPY:\n",
    ">   * <font size=2> *solver* - the convex optimization solver ECOS, OSQP, and SCS chosen according to the given problem\n",
    "    * **OSQP** for convex quadratic problems\n",
    "        * `max_iter` - maximum number of iterations (default: 10000).\n",
    "        * `eps_abs` - absolute accuracy (default: 1e-4).\n",
    "        * `eps_rel` - relative accuracy (default: 1e-4).\n",
    "    * **ECOS** for convex second-order cone problems \n",
    "        * `max_iters` - maximum number of iterations (default: 100).\n",
    "        * `abstol` - absolute accuracy (default: 1e-7).\n",
    "        * `reltol` - relative accuracy (default: 1e-6).\n",
    "        * `feastol` - tolerance for feasibility conditions (default: 1e-7).\n",
    "        * `abstol_inacc` - absolute accuracy for inaccurate solution (default: 5e-5).\n",
    "        * `reltol_inacc` - relative accuracy for inaccurate solution (default: 5e-5).\n",
    "        * `feastol_inacc` - tolerance for feasibility condition for inaccurate solution (default: 1e-4).\n",
    "    * **SCS** for large-scale convex cone problems\n",
    "        * `max_iters` - maximum number of iterations (default: 2500).\n",
    "        * `eps` - convergence tolerance (default: 1e-4).\n",
    "        * `alpha` - relaxation parameter (default: 1.8).\n",
    "        * `scale` - balance between minimizing primal and dual residual (default: 5.0).\n",
    "        * `normalize` - whether to precondition data matrices (default: True).\n",
    "        * `use_indirect` - whether to use indirect solver for KKT sytem (instead of direct) (default: True).<font>"
   ]
  },
  {
   "cell_type": "markdown",
   "metadata": {},
   "source": [
    "## Scipy - NumPy, Pandas\n",
    "* Numpy is the fundamental Python library of SciPy ecosystem for fast scientific computing with large, multi-dimensional arrays and matrices, along with a large collection of high-level mathematical functions to operate on these arrays.  \n",
    "* default precision: double floating-point precision $\\text{eps}<10^{-15}$\n",
    "* Pandas is the Python library providing high-performance, easy to use data structures."
   ]
  },
  {
   "cell_type": "code",
   "execution_count": 1,
   "metadata": {
    "ExecuteTime": {
     "end_time": "2019-05-18T17:58:55.308000Z",
     "start_time": "2019-05-18T17:58:54.597000Z"
    }
   },
   "outputs": [],
   "source": [
    "import cvxpy\n",
    "import numpy as np\n",
    "import pandas as pd\n",
    "import platform as pt\n",
    "\n",
    "from cvxpy import *\n",
    "from math import cos, sin\n",
    "from numpy.linalg import inv, norm\n",
    "from itertools import product\n",
    "from __future__ import print_function\n",
    "from __future__ import division\n",
    "\n",
    "np.set_printoptions(precision=10)"
   ]
  },
  {
   "cell_type": "code",
   "execution_count": 2,
   "metadata": {
    "ExecuteTime": {
     "end_time": "2019-05-18T17:58:55.325000Z",
     "start_time": "2019-05-18T17:58:55.311000Z"
    },
    "scrolled": true
   },
   "outputs": [
    {
     "name": "stdout",
     "output_type": "stream",
     "text": [
      "cvxpy:1.0.1\n",
      "numpy:1.16.3\n",
      "pandas:0.24.2\n",
      "python:2.7.16\n"
     ]
    }
   ],
   "source": [
    "# software versions\n",
    "print('cvxpy:'+cvxpy.__version__)\n",
    "print('numpy:'+np.__version__)\n",
    "print('pandas:'+pd.__version__)\n",
    "print('python:'+pt.python_version())"
   ]
  },
  {
   "cell_type": "markdown",
   "metadata": {},
   "source": [
    "***\n",
    "<a id=data_and_model></a>\n",
    "# <font color=brown>Data and Toy model 1</font>"
   ]
  },
  {
   "cell_type": "markdown",
   "metadata": {},
   "source": [
    "In this FDSLRM application, we model the econometric time series data set, representing the hours observations of the consumption of the electric energy in some department store. The number of time series observations is $n=24$. The data was adapted from _Štulajter & Witkovský, 2004_ and the FDSLRM model from _Gajdoš et al 2017_.\n",
    "\n",
    "The consumption data can be fitted by the following Gaussian orthogonal FDSLRM:\n",
    "\n",
    "$ \n",
    "\\begin{array}{rl}\n",
    "& X(t) & \\!  = \\! & \\beta_1+\\beta_2\\cos\\left(\\tfrac{2\\pi t}{24}\\right)+\\beta_3\\sin\\left(\\tfrac{2\\pi t}{24}\\right) +\\\\\n",
    "&      &         & +Y_1\\cos\\left(\\tfrac{2\\pi t\\cdot 3}{24}\\right)+Y_2\\sin\\left(\\tfrac{2\\pi t\\cdot 3}{24}\\right)+\\\\\n",
    "&      &         & +Y_3\\cos\\left(\\tfrac{2\\pi t\\cdot 4}{24}\\right)+Y_4\\sin\\left(\\tfrac{2\\pi t\\cdot 4}{24}\\right)\n",
    "+w(t), \\, t\\in \\mathbb{N},\n",
    "\\end{array}\n",
    "$ \n",
    "\n",
    "where $\\boldsymbol{\\beta}=(\\beta_1,\\,\\beta_2,\\,\\beta_3)' \\in \\mathbb{R}^3\\,,\\mathbf{Y} = (Y_1, Y_2, Y_3, Y_4)' \\sim \\mathcal{N}_4(\\boldsymbol{0}, \\mathrm{D})\\,, w(t) \\sim \\mathcal{iid}\\, \\mathcal{N} (0, \\sigma_0^2)\\,, \\boldsymbol{\\nu}= (\\sigma_0^2, \\sigma_1^2, \\sigma_2^2, \\sigma_3^2, \\sigma_4^2) \\in \\mathbb{R}_{+}^5.$ "
   ]
  },
  {
   "cell_type": "code",
   "execution_count": 3,
   "metadata": {
    "ExecuteTime": {
     "end_time": "2019-05-18T17:58:55.339000Z",
     "start_time": "2019-05-18T17:58:55.330000Z"
    }
   },
   "outputs": [],
   "source": [
    "# data - time series observation\n",
    "data = [40.3,40.7,38.5,37.9,38.6,41.1,45.2,45.7,46.7,46.5,\n",
    "        45.2,45.1,45.8,46.3,47.5,48.5,49.1,51.7,50.6,48.0,\n",
    "        44.7,41.2,40.0,40.3]\n",
    "\n",
    "# observation x as matrix\n",
    "x = np.mat(data).T\n",
    "xc = x.T"
   ]
  },
  {
   "cell_type": "code",
   "execution_count": 4,
   "metadata": {
    "ExecuteTime": {
     "end_time": "2019-05-18T17:58:55.360000Z",
     "start_time": "2019-05-18T17:58:55.345000Z"
    }
   },
   "outputs": [],
   "source": [
    "# model parameters\n",
    "n, k, l = 24, 3, 4\n",
    "\n",
    "# significant frequencies\n",
    "om1, om2, om3 = 2*np.pi/24, 2*np.pi/8, 2*np.pi/6\n",
    "\n",
    "# model - design matrices F', F, V',V\n",
    "Fc = np.mat([[1 for t in range(1,n+1)],\n",
    "             [cos(om1*t) for t in range(1,n+1)],\n",
    "             [sin(om1*t) for t in range(1,n+1)]])\n",
    "Vc = np.mat([[cos(om2*t) for t in range(1,n+1)],\n",
    "             [sin(om2*t) for t in range(1,n+1)],\n",
    "             [cos(om3*t) for t in range(1,n+1)],\n",
    "             [sin(om3*t) for t in range(1,n+1)]])\n",
    "F, V = Fc.T, Vc.T\n",
    "\n",
    "# columns vj of V and their squared norm ||vj||^2\n",
    "vv = lambda j: V[:,j-1]\n",
    "nv2 = lambda j: np.trace(vv(j).T*vv(j))"
   ]
  },
  {
   "cell_type": "code",
   "execution_count": 5,
   "metadata": {
    "ExecuteTime": {
     "end_time": "2019-05-18T17:58:55.379000Z",
     "start_time": "2019-05-18T17:58:55.367000Z"
    }
   },
   "outputs": [],
   "source": [
    "# auxiliary matrices and vectors\n",
    "\n",
    "# Gram matrices GF, GV\n",
    "GF, GV = Fc*F, Vc*V\n",
    "InvGF, InvGV = inv(GF), inv(GV)\n",
    "\n",
    "# projectors PF, MF, PV, MV\n",
    "In = np.identity(n)\n",
    "PF = F*InvGF*Fc\n",
    "PV = V*InvGV*Vc\n",
    "MF, MV = In-PF, In-PV\n",
    "\n",
    "# residuals e, e'\n",
    "e = MF*x\n",
    "ec = e.T"
   ]
  },
  {
   "cell_type": "code",
   "execution_count": 6,
   "metadata": {
    "ExecuteTime": {
     "end_time": "2019-05-18T17:58:55.408000Z",
     "start_time": "2019-05-18T17:58:55.385000Z"
    }
   },
   "outputs": [
    {
     "data": {
      "text/plain": [
       "(matrix([[-2.1437508791e-15, -1.1445501570e-15, -3.8857805862e-15,\n",
       "           1.0987806472e-15],\n",
       "         [-3.0728232692e-15, -9.2250555206e-16, -1.6098233857e-15,\n",
       "          -2.3719496443e-15],\n",
       "         [ 1.1428494210e-15,  5.6504106949e-16, -4.6697396475e-16,\n",
       "          -7.4494711744e-16]]),\n",
       " matrix([[ 1.2000000000e+01,  1.4856579698e-15, -5.3290705182e-15,\n",
       "           3.0170854493e-15],\n",
       "         [ 1.4856579698e-15,  1.2000000000e+01,  7.0850185252e-16,\n",
       "          -2.1094237468e-15],\n",
       "         [-5.3290705182e-15,  7.0850185252e-16,  1.2000000000e+01,\n",
       "           5.8481541621e-15],\n",
       "         [ 3.0170854493e-15, -2.1094237468e-15,  5.8481541621e-15,\n",
       "           1.2000000000e+01]]))"
      ]
     },
     "execution_count": 6,
     "metadata": {},
     "output_type": "execute_result"
    }
   ],
   "source": [
    "# orthogonality condition\n",
    "Fc*V, GV"
   ]
  },
  {
   "cell_type": "markdown",
   "metadata": {},
   "source": [
    "***\n",
    "<a id=natural_estimators></a>\n",
    "# <font color=brown> Natural estimators</font>\n",
    "\n",
    "## ANALYTICALLY \n",
    "using formula (4.1) from _Hancova et al 2019_\n",
    "\n",
    ">$\n",
    "\\renewcommand{\\arraystretch}{1.4}\n",
    "\\breve{\\boldsymbol{\\nu}}(\\mathbf{e}) =\n",
    "\\begin{pmatrix}\n",
    "\\tfrac{1}{n-k-l}\\,\\mathbf{e}'\\,\\mathrm{M_V}\\,\\mathbf{e} \\\\\n",
    "(\\mathbf{e}'\\mathbf{v}_1)^2/||\\mathbf{v}_1||^4 \\\\\n",
    "\\vdots \\\\\n",
    "(\\mathbf{e}'\\mathbf{v}_l)^2/||\\mathbf{v}_l||^4\n",
    "\\end{pmatrix} \n",
    "$\n",
    "\n",
    "## $\\boldsymbol{1^{st}}$ stage of EBLUP-NE "
   ]
  },
  {
   "cell_type": "markdown",
   "metadata": {},
   "source": [
    "## SciPy(Numpy)"
   ]
  },
  {
   "cell_type": "code",
   "execution_count": 7,
   "metadata": {
    "ExecuteTime": {
     "end_time": "2019-05-18T17:58:55.424000Z",
     "start_time": "2019-05-18T17:58:55.415000Z"
    }
   },
   "outputs": [
    {
     "name": "stdout",
     "output_type": "stream",
     "text": [
      "[3.532314097204738, 0.3719349745059175, 1.8634794260764524, 0.004444444444444733, 1.2674999999999963] 4.2065080626415865\n"
     ]
    }
   ],
   "source": [
    "# NE according to formula (4.1)\n",
    "NE0 = [1/(n-k-l)*np.trace(ec*MV*e)]\n",
    "NEj = [(np.trace(ec*vv(j))/nv2(j))**2 for j in range(1,l+1)] \n",
    "NE = NE0+NEj\n",
    "print(NE, norm(NE))"
   ]
  },
  {
   "cell_type": "markdown",
   "metadata": {},
   "source": [
    "## CVXPY\n",
    "\n",
    "\n",
    "NE as a convex optimization problem\n",
    "\n",
    ">$\n",
    "\\begin{array}{ll} \n",
    "\\textit{minimize}    & \\quad \n",
    "f_0(\\boldsymbol{\\nu})=||\\mathbf{e}\\mathbf{e}' - \\mathrm{VDV'}||^2+||\\mathrm{M_V}\\mathbf{e}\\mathbf{e}'\\mathrm{M_V}-\\nu_0\\mathrm{M_F}\\mathrm{M_V}||^2 \\\\[6pt]\n",
    "\\textit{subject to}  & \\quad \\boldsymbol{\\nu} = \\left(\\nu_0, \\ldots, \\nu_l\\right)'\\in [0, \\infty)^{l+1} \n",
    "\\end{array}\n",
    "$"
   ]
  },
  {
   "cell_type": "code",
   "execution_count": 8,
   "metadata": {
    "ExecuteTime": {
     "end_time": "2019-05-18T17:58:55.494000Z",
     "start_time": "2019-05-18T17:58:55.431000Z"
    }
   },
   "outputs": [
    {
     "name": "stdout",
     "output_type": "stream",
     "text": [
      "NEcvx = [3.5323140972 0.3719349745 1.8634794261 0.0044444444 1.2675      ]  norm =  4.2065080626415865\n"
     ]
    }
   ],
   "source": [
    "# the optimization variable, objective function\n",
    "v = Variable(l+1)\n",
    "fv = sum_squares(e*ec-V*diag(v[1:])*Vc)+sum_squares(MV*e*ec*MV-v[0]*MF*MV)\n",
    "\n",
    "# the optimization problem for NE\n",
    "objective = Minimize(fv)\n",
    "constraints = [v >= 0]\n",
    "prob = Problem(objective,constraints)\n",
    "\n",
    "# solve the NE problem\n",
    "prob.solve()\n",
    "NEcvx = v.value\n",
    "print('NEcvx =', NEcvx, ' norm = ', norm(NEcvx))"
   ]
  },
  {
   "cell_type": "markdown",
   "metadata": {},
   "source": [
    "## $\\boldsymbol{2^{nd}}$ stage of EBLUP-NE\n",
    "using formula (3.10) from _Hancova et al 2019_.\n",
    ">$\n",
    "\\mathring{\\nu}_j = \\rho_j^2 \\breve{\\nu}_j; j = 0,1 \\ldots, l\\\\\n",
    "\\rho_0 = 1, \\rho_j = \\dfrac{\\hat{\\nu}_j||\\mathbf{v}_j||^2}{\\hat{\\nu}_0+\\hat{\\nu}_j||\\mathbf{v}_j||^2} \n",
    "$\n",
    ">\n",
    ">where $\\boldsymbol{\\breve{\\nu}}$ are NE,  $\\boldsymbol{\\hat{\\nu}}$ are initial estimates for EBLUP-NE"
   ]
  },
  {
   "cell_type": "markdown",
   "metadata": {},
   "source": [
    "## SciPy(Numpy)"
   ]
  },
  {
   "cell_type": "code",
   "execution_count": 9,
   "metadata": {
    "ExecuteTime": {
     "end_time": "2019-05-18T17:58:55.506000Z",
     "start_time": "2019-05-18T17:58:55.499000Z"
    }
   },
   "outputs": [],
   "source": [
    "# EBLUP-NE based on formula (3.9)\n",
    "rho2 = lambda est: [1]+ [ (est[j]*nv2(j)/(est[0]+est[j]*nv2(j)))**2 for j in range(1,l+1) ]\n",
    "EBLUPNE = lambda est: [rho2(est)[j]*NE[j] for j in range(l+1)]"
   ]
  },
  {
   "cell_type": "code",
   "execution_count": 10,
   "metadata": {
    "ExecuteTime": {
     "end_time": "2019-05-18T17:58:55.518000Z",
     "start_time": "2019-05-18T17:58:55.510000Z"
    }
   },
   "outputs": [
    {
     "name": "stdout",
     "output_type": "stream",
     "text": [
      "[1, 0.3116029807063632, 0.7457807251808481, 0.00022123930617642831, 0.658585257046408]\n"
     ]
    }
   ],
   "source": [
    "# numerical results\n",
    "print(rho2(NE))"
   ]
  },
  {
   "cell_type": "code",
   "execution_count": 11,
   "metadata": {
    "ExecuteTime": {
     "end_time": "2019-05-18T17:58:55.535000Z",
     "start_time": "2019-05-18T17:58:55.523000Z"
    }
   },
   "outputs": [
    {
     "name": "stdout",
     "output_type": "stream",
     "text": [
      "[3.532314097204738, 0.11589604668498911, 1.3897470377388874, 9.832858052286341e-07, 0.8347568133063197] 3.8883017554216175\n"
     ]
    }
   ],
   "source": [
    "print(EBLUPNE(NE),norm(EBLUPNE(NE)))"
   ]
  },
  {
   "cell_type": "markdown",
   "metadata": {},
   "source": [
    "### cross-checking \n",
    "using formula (3.6) for general FDSLRM from _Hancova et al 2019_.\n",
    ">$\n",
    "\\mathring{\\nu}_0 = \\breve{\\nu}_0, \\mathring{\\nu}_j = (\\mathbf{Y}^*)_j^2, j = 1, 2, \\ldots, l \\\\\n",
    "\\mathbf{Y}^* = \\mathbb{T}\\mathbf{X} \\mbox{ with } \\mathbb{T} = \\mathrm{D}\\mathbb{U}^{-1}\\mathrm{V}'\\mathrm{M_F}, \\mathbb{U} = \\mathrm{V}'\\mathrm{M_F}\\mathrm{V}\\mathrm{D} + \\nu_0 \\mathrm{I}_l\n",
    "$"
   ]
  },
  {
   "cell_type": "code",
   "execution_count": 12,
   "metadata": {
    "ExecuteTime": {
     "end_time": "2019-05-18T17:58:55.552000Z",
     "start_time": "2019-05-18T17:58:55.540000Z"
    }
   },
   "outputs": [],
   "source": [
    "def EBLUPNEgen(est):\n",
    "    D = np.diag(est[1:])\n",
    "    U = Vc*MF*V*D + est[0]*np.identity(l)\n",
    "    T = D*inv(U)*Vc*MF\n",
    "    eest = np.vstack((np.matrix(NE[0]),np.multiply(T*x, T*x)))\n",
    "    return np.array(eest).flatten().tolist()"
   ]
  },
  {
   "cell_type": "code",
   "execution_count": 13,
   "metadata": {
    "ExecuteTime": {
     "end_time": "2019-05-18T17:58:55.567000Z",
     "start_time": "2019-05-18T17:58:55.557000Z"
    },
    "scrolled": true
   },
   "outputs": [
    {
     "name": "stdout",
     "output_type": "stream",
     "text": [
      "[3.532314097204738, 0.11589604668498868, 1.389747037738885, 9.832858052285863e-07, 0.8347568133063227] 3.8883017554216175\n"
     ]
    }
   ],
   "source": [
    "print(EBLUPNEgen(NE), norm(EBLUPNEgen(NE)))"
   ]
  },
  {
   "cell_type": "markdown",
   "metadata": {},
   "source": [
    "***\n",
    "<a id=doolse></a>\n",
    "# <font color=brown> NN-DOOLSE or MLE</font>\n",
    "\n",
    "## $\\boldsymbol{1^{st}}$ stage of EBLUP-NE "
   ]
  },
  {
   "cell_type": "markdown",
   "metadata": {},
   "source": [
    "## KKT algorithm\n",
    "using the the KKT algorithm (tab.3, _Hancova et al 2019_)  \n",
    "<img src='KKTscheme.png' width=550 align='left'>  \n",
    "\n",
    "$~$\n",
    ">$\n",
    "\\qquad \\mathbf{q} = \n",
    "\\left(\\begin{array}{c}\n",
    "\\mathbf{e}'  \\mathbf{e}\\\\\n",
    "(\\mathbf{e}'   \\mathbf{v}_{1})^2 \\\\\n",
    "\\vdots \\\\\n",
    "(\\mathbf{e}'   \\mathbf{v}_{l})^2\n",
    "\\end{array}\\right)\n",
    "$\n",
    ">\n",
    "> $\\qquad\\mathrm{G} = \\left(\\begin{array}{ccccc}\n",
    "\\small\n",
    "n^*                  & ||\\mathbf{v}_{1}||^2 & ||\\mathbf{v}_{2}||^2 & \\ldots & ||\\mathbf{v}_{l}||^2 \\\\\n",
    "||\\mathbf{v}_{1}||^2 & ||\\mathbf{v}_{1}||^4 & 0                    & \\ldots & 0 \\\\\n",
    "||\\mathbf{v}_{2}||^2 & 0                    & ||\\mathbf{v}_{2}||^4 & \\ldots & 0 \\\\\n",
    "\\vdots               & \\vdots               & \\vdots               & \\ldots & \\vdots \\\\\n",
    "||\\mathbf{v}_{l}||^2 & 0                    & 0                    & \\ldots & ||\\mathbf{v}_{l}||^4\n",
    "\\end{array}\\right)\n",
    "$"
   ]
  },
  {
   "cell_type": "markdown",
   "metadata": {},
   "source": [
    "## SciPy(Numpy)"
   ]
  },
  {
   "cell_type": "code",
   "execution_count": 14,
   "metadata": {
    "ExecuteTime": {
     "end_time": "2019-05-18T17:58:55.608000Z",
     "start_time": "2019-05-18T17:58:55.574000Z"
    }
   },
   "outputs": [
    {
     "name": "stdout",
     "output_type": "stream",
     "text": [
      "[2.8620320469 0.1334323039 1.6249767555 0.           1.0289973294] 3.450857368441588 (1, 1, 0, 1)\n"
     ]
    }
   ],
   "source": [
    "# Input: form G\n",
    "ns, nvj = n, norm(V, axis=0)\n",
    "u, v, Q  = np.mat(ns), np.mat(nvj**2), np.diag(nvj**4)\n",
    "G = np.bmat([[u,v],[v.T,Q]])\n",
    "# form q\n",
    "e2, Ve2 = ec*e, np.multiply(Vc*e, Vc*e)\n",
    "q = np.vstack((e2, Ve2))\n",
    "\n",
    "# body of the algorithm\n",
    "for b in product([0,1], repeat=l): \n",
    "    # set the KKT-conditions matrix K\n",
    "    K = G*1\n",
    "    for j in range(1,l+1): \n",
    "        if b[j-1] == 0: K[0,j], K[j,j]  = 0,-1\n",
    "    # calculate the auxiliary vector g\n",
    "    g = inv(K)*q\n",
    "    # test non-negativity g\n",
    "    if (g >= 0).all(): break   \n",
    "\n",
    "# Output: Form estimates nu\n",
    "nu = g*1\n",
    "for j in range(1,l+1):\n",
    "    if b[j-1] == 0: nu[j] = 0\n",
    "\n",
    "NN_DOOLSE = np.array(nu).flatten()\n",
    "print(NN_DOOLSE, norm(NN_DOOLSE),b)"
   ]
  },
  {
   "cell_type": "markdown",
   "metadata": {},
   "source": [
    "## CVXPY\n",
    "\n",
    "nonnegative DOOLSE as a convex optimization problem\n",
    "\n",
    ">$\n",
    "\\begin{array}{ll} \n",
    "\\textit{minimize}    & f_0(\\boldsymbol{\\nu})=||\\mathbf{e}\\mathbf{e}'-\\Sigma_\\boldsymbol{\\nu}||^2 \\\\[6pt]\n",
    "\\textit{subject to}  & \\boldsymbol{\\nu} = \\left(\\nu_0, \\ldots, \\nu_l\\right)'\\in [0, \\infty)^{l+1} \n",
    "\\end{array}\n",
    "$"
   ]
  },
  {
   "cell_type": "code",
   "execution_count": 15,
   "metadata": {
    "ExecuteTime": {
     "end_time": "2019-05-18T17:58:55.664000Z",
     "start_time": "2019-05-18T17:58:55.615000Z"
    },
    "scrolled": true
   },
   "outputs": [
    {
     "name": "stdout",
     "output_type": "stream",
     "text": [
      "NN-DOOLSEcvx = [ 2.8620320469e+00  1.3343230393e-01  1.6249767555e+00 -1.3950200572e-15\n",
      "  1.0289973294e+00] norm = 3.450857368441589\n"
     ]
    }
   ],
   "source": [
    "# set the optimization variable, objective function\n",
    "v = Variable(l+1)\n",
    "fv = sum_squares(e*e.T - v[0]*In - V*diag(v[1:])*Vc)\n",
    "\n",
    "# construct the problem for DOOLSE\n",
    "objective = Minimize(fv)\n",
    "constraints = [v >= 0]\n",
    "prob = Problem(objective,constraints)\n",
    "\n",
    "# solve the DOOLSE problem\n",
    "prob.solve()\n",
    "NN_DOOLSEcvx = v.value\n",
    "print('NN-DOOLSEcvx =', NN_DOOLSEcvx, 'norm =', norm(NN_DOOLSEcvx))"
   ]
  },
  {
   "cell_type": "markdown",
   "metadata": {},
   "source": [
    "## CVXPY\n",
    "\n",
    "using equivalent (RE)MLE convex problem (proposition 5, _Hancova et al 2019_)\n",
    "\n",
    "\n",
    ">$\n",
    "\\begin{array}{ll} \n",
    "\\textit{minimize}    & \\quad f_0(\\mathbf{d})=-(n^*\\!-l)\\ln d_0 - \\displaystyle\\sum\\limits_{j=1}^{l} \n",
    "\t\t\\ln(d_0-d_j||\\mathbf{v}_j||^2+d_0\\mathbf{e}'\\mathbf{e}-\\mathbf{e}'\\mathrm{V}\\,\\mathrm{diag}\\{d_j\\}\\mathrm{V}'\\mathbf{e}   \\\\[6pt]\n",
    "\\textit{subject to}  & \\quad d_0 > \\max\\{d_j||\\mathbf{v}_j||^2, j = 1, \\ldots, l\\}  \\\\\n",
    "                     & \\quad d_j \\geq 0, j=1,\\ldots l \\\\\n",
    "                     & \\\\\n",
    "& \\quad\\text{for MLE: } n^* = n, \\text{ for REMLE: } n^* = n-k \\\\\n",
    "\\textit{back transformation:} & \\quad \\nu_0 = \\dfrac{1}{d_0}, \\nu_j = \\dfrac{d_j}{d_0\\left(d_0 -d_j||\\mathbf{v}_j||^2\\right)}\n",
    "\\end{array}\n",
    "$"
   ]
  },
  {
   "cell_type": "code",
   "execution_count": 16,
   "metadata": {
    "ExecuteTime": {
     "end_time": "2019-05-18T17:58:55.725000Z",
     "start_time": "2019-05-18T17:58:55.671000Z"
    }
   },
   "outputs": [
    {
     "name": "stdout",
     "output_type": "stream",
     "text": [
      "MLEcvx =  [2.8620321657426606, 0.13343229656794814, 1.6249770521389806, 7.965346731029429e-10, 1.0289977662888852]  norm =  3.45085773663865\n"
     ]
    }
   ],
   "source": [
    "# set variables for the objective\n",
    "ns = n\n",
    "d = Variable(l+1)\n",
    "logdetS = (ns-l)*log(d[0])+sum(log(d[0]-GV*d[1:]))\n",
    "\n",
    "# construct the problem\n",
    "objective = Maximize(logdetS-(d[0]*ec*e-ec*V*diag(d[1:])*Vc*e))\n",
    "constraints = [0 <= d[1:], max(GV*d[1:]) <= d[0]]\n",
    "prob = Problem(objective,constraints)\n",
    "\n",
    "# solve the problem\n",
    "solution = prob.solve()\n",
    "dv = d.value.tolist()\n",
    "\n",
    "# back transformation\n",
    "s0 = [1/dv[0]]\n",
    "sj = [dv[i]/(dv[0]*(dv[0]-dv[i]*GV[i-1,i-1])) for i in range(1,l+1)]\n",
    "sv = s0+sj\n",
    "\n",
    "print('MLEcvx = ', sv, ' norm = ', norm(sv))"
   ]
  },
  {
   "cell_type": "markdown",
   "metadata": {},
   "source": [
    "## $\\boldsymbol{2^{nd}}$ stage of EBLUP-NE"
   ]
  },
  {
   "cell_type": "markdown",
   "metadata": {},
   "source": [
    "## SciPy(Numpy)"
   ]
  },
  {
   "cell_type": "code",
   "execution_count": 17,
   "metadata": {
    "ExecuteTime": {
     "end_time": "2019-05-18T17:58:55.739000Z",
     "start_time": "2019-05-18T17:58:55.730000Z"
    }
   },
   "outputs": [
    {
     "name": "stdout",
     "output_type": "stream",
     "text": [
      "[1, 0.12870278135360888, 0.7604052409263242, 0.0, 0.65907154135208]\n"
     ]
    }
   ],
   "source": [
    "# numerical results\n",
    "print(rho2(NN_DOOLSE))"
   ]
  },
  {
   "cell_type": "code",
   "execution_count": 18,
   "metadata": {
    "ExecuteTime": {
     "end_time": "2019-05-18T17:58:55.758000Z",
     "start_time": "2019-05-18T17:58:55.745000Z"
    }
   },
   "outputs": [
    {
     "name": "stdout",
     "output_type": "stream",
     "text": [
      "[3.532314097204738, 0.047869065701595194, 1.4169995219469131, 0.0, 0.8353731786637589] 3.896828238656541\n"
     ]
    }
   ],
   "source": [
    "print(EBLUPNE(NN_DOOLSE), norm(EBLUPNE(NN_DOOLSE)))"
   ]
  },
  {
   "cell_type": "code",
   "execution_count": 19,
   "metadata": {
    "ExecuteTime": {
     "end_time": "2019-05-18T17:58:55.775000Z",
     "start_time": "2019-05-18T17:58:55.766000Z"
    }
   },
   "outputs": [
    {
     "name": "stdout",
     "output_type": "stream",
     "text": [
      "[3.532314097204738, 0.04786906570159519, 1.4169995219469127, 0.0, 0.8353731786637619] 3.8968282386565414\n"
     ]
    }
   ],
   "source": [
    "#cross-checking\n",
    "print(EBLUPNEgen(NN_DOOLSE), norm(EBLUPNEgen(NN_DOOLSE)))"
   ]
  },
  {
   "cell_type": "markdown",
   "metadata": {},
   "source": [
    "***\n",
    "<a id=mdoolse></a>\n",
    "# <font color=brown> NN-MDOOLSE or REMLE</font>\n",
    "using the KKT algorithm (tab.3, _Hancova et al 2019_)\n",
    "\n",
    "## $\\boldsymbol{1^{st}}$ stage of EBLUP-NE "
   ]
  },
  {
   "cell_type": "markdown",
   "metadata": {},
   "source": [
    "## KKT algorithm"
   ]
  },
  {
   "cell_type": "markdown",
   "metadata": {},
   "source": [
    "## SciPy(Numpy)"
   ]
  },
  {
   "cell_type": "code",
   "execution_count": 20,
   "metadata": {
    "ExecuteTime": {
     "end_time": "2019-05-18T17:58:55.809000Z",
     "start_time": "2019-05-18T17:58:55.781000Z"
    }
   },
   "outputs": [
    {
     "name": "stdout",
     "output_type": "stream",
     "text": [
      "[3.3390373881 0.0936818588 1.5852263104 0.           0.9892468843] 3.827466371262353 (1, 1, 0, 1)\n"
     ]
    }
   ],
   "source": [
    "# Input: form G\n",
    "ns, nvj = n-k, norm(V, axis=0)\n",
    "u, v, Q  = np.mat(ns), np.mat(nvj**2), np.diag(nvj**4)\n",
    "G = np.bmat([[u,v],[v.T,Q]])\n",
    "# form q\n",
    "e2, Ve2 = ec*e, np.multiply(Vc*e, Vc*e)\n",
    "q = np.vstack((e2, Ve2))\n",
    "\n",
    "# body of the algorithm\n",
    "for b in product([0,1], repeat=l): \n",
    "    # set the KKT-conditions matrix K\n",
    "    K = G*1\n",
    "    for j in range(1,l+1): \n",
    "        if b[j-1] == 0: K[0,j], K[j,j]  = 0,-1\n",
    "    # calculate the auxiliary vector g\n",
    "    g = inv(K)*q\n",
    "    # test non-negativity g\n",
    "    if (g >= 0).all(): break   \n",
    "\n",
    "# Output: Form estimates nu\n",
    "nu = g*1\n",
    "for j in range(1,l+1):\n",
    "    if b[j-1] == 0: nu[j] = 0\n",
    "\n",
    "NN_MDOOLSE = np.array(nu).flatten()\n",
    "print(NN_MDOOLSE, norm(NN_MDOOLSE),b)"
   ]
  },
  {
   "cell_type": "markdown",
   "metadata": {},
   "source": [
    "## CVXPY\n",
    "\n",
    "nonnegative DOOLSE as a convex optimization problem\n",
    "\n",
    ">$\n",
    "\\begin{array}{ll} \n",
    "\\textit{minimize}    & f_0(\\boldsymbol{\\nu})=||\\mathbf{e}\\mathbf{e}'-\\mathrm{M_F}\\Sigma_\\boldsymbol{\\nu}\\mathrm{M_F}||^2 \\\\[6pt]\n",
    "\\textit{subject to}  & \\boldsymbol{\\nu} = \\left(\\nu_0, \\ldots, \\nu_l\\right)'\\in [0, \\infty)^{l+1} \n",
    "\\end{array}\n",
    "$"
   ]
  },
  {
   "cell_type": "code",
   "execution_count": 21,
   "metadata": {
    "ExecuteTime": {
     "end_time": "2019-05-18T17:58:55.869000Z",
     "start_time": "2019-05-18T17:58:55.814000Z"
    },
    "scrolled": true
   },
   "outputs": [
    {
     "name": "stdout",
     "output_type": "stream",
     "text": [
      "NN-MDOOLSEcvx = [ 3.3390373881e+00  9.3681858831e-02  1.5852263104e+00 -1.5929113550e-15\n",
      "  9.8924688432e-01] norm = 3.8274663712623553\n"
     ]
    }
   ],
   "source": [
    "# set the optimization variable, objective function\n",
    "v = Variable(l+1)\n",
    "fv = sum_squares(e*e.T - v[0]*MF - V*diag(v[1:])*V.T)\n",
    "\n",
    "# construct the problem for DOOLSE\n",
    "objective = Minimize(fv)\n",
    "constraints = [v >= 0]\n",
    "prob = Problem(objective,constraints)\n",
    "\n",
    "# solve the DOOLSE problem\n",
    "prob.solve()\n",
    "NN_MDOOLSEcvx = v.value\n",
    "print('NN-MDOOLSEcvx =', NN_MDOOLSEcvx, 'norm =', norm(NN_MDOOLSEcvx))"
   ]
  },
  {
   "cell_type": "markdown",
   "metadata": {},
   "source": [
    "## CVXPY\n",
    "\n",
    "using equivalent (RE)MLE convex problem (proposition 5, _Hancova et al 2019_)\n",
    "\n",
    "\n",
    ">$\n",
    "\\begin{array}{ll} \n",
    "\\textit{minimize}    & \\quad f_0(\\mathbf{d})=-(n^*\\!-l)\\ln d_0 - \\displaystyle\\sum\\limits_{j=1}^{l} \n",
    "\t\t\\ln(d_0-d_j||\\mathbf{v}_j||^2+d_0\\mathbf{e}'\\mathbf{e}-\\mathbf{e}'\\mathrm{V}\\,\\mathrm{diag}\\{d_j\\}\\mathrm{V}'\\mathbf{e}   \\\\[6pt]\n",
    "\\textit{subject to}  & \\quad d_0 > \\max\\{d_j||\\mathbf{v}_j||^2, j = 1, \\ldots, l\\}  \\\\\n",
    "                     & \\quad d_j \\geq 0, j=1,\\ldots l \\\\\n",
    "                     & \\\\\n",
    "& \\quad\\text{for MLE: } n^* = n, \\text{ for REMLE: } n^* = n-k \\\\\n",
    "\\textit{back transformation:} & \\quad \\nu_0 = \\dfrac{1}{d_0}, \\nu_j = \\dfrac{d_j}{d_0\\left(d_0 -d_j||\\mathbf{v}_j||^2\\right)}\n",
    "\\end{array}\n",
    "$"
   ]
  },
  {
   "cell_type": "code",
   "execution_count": 22,
   "metadata": {
    "ExecuteTime": {
     "end_time": "2019-05-18T17:58:55.934000Z",
     "start_time": "2019-05-18T17:58:55.876000Z"
    }
   },
   "outputs": [
    {
     "name": "stdout",
     "output_type": "stream",
     "text": [
      "REMLEcvx =  [3.3390410129100223, 0.09368137630483031, 1.5852272221623653, 1.4219044462595573e-09, 0.9892468608769198]  norm =  3.827469893258601\n"
     ]
    }
   ],
   "source": [
    "# set variables for the objective\n",
    "ns = n - k\n",
    "d = Variable(l+1)\n",
    "logdetS = (ns-l)*log(d[0])+sum(log(d[0]-GV*d[1:]))\n",
    "\n",
    "# construct the problem\n",
    "objective = Maximize(logdetS-(d[0]*ec*e-ec*V*diag(d[1:])*Vc*e))\n",
    "constraints = [0 <= d[1:], max(GV*d[1:]) <= d[0]]\n",
    "prob = Problem(objective,constraints)\n",
    "\n",
    "# solve the problem\n",
    "solution = prob.solve()\n",
    "dv = d.value.tolist()\n",
    "\n",
    "# back transformation\n",
    "s0 = [1/dv[0]]\n",
    "sj = [dv[i]/(dv[0]*(dv[0]-dv[i]*GV[i-1,i-1])) for i in range(1,l+1)]\n",
    "sv = s0+sj\n",
    "\n",
    "print('REMLEcvx = ', sv, ' norm = ', norm(sv))"
   ]
  },
  {
   "cell_type": "markdown",
   "metadata": {},
   "source": [
    "## $\\boldsymbol{2^{nd}}$ stage of EBLUP-NE"
   ]
  },
  {
   "cell_type": "markdown",
   "metadata": {},
   "source": [
    "## SciPy(Numpy)"
   ]
  },
  {
   "cell_type": "code",
   "execution_count": 23,
   "metadata": {
    "ExecuteTime": {
     "end_time": "2019-05-18T17:58:55.950000Z",
     "start_time": "2019-05-18T17:58:55.941000Z"
    }
   },
   "outputs": [
    {
     "name": "stdout",
     "output_type": "stream",
     "text": [
      "[1, 0.06344201399649169, 0.7236579526265952, 0.0, 0.6091348486220708]\n"
     ]
    }
   ],
   "source": [
    "# numerical results\n",
    "print(rho2(NN_MDOOLSE))"
   ]
  },
  {
   "cell_type": "code",
   "execution_count": 24,
   "metadata": {
    "ExecuteTime": {
     "end_time": "2019-05-18T17:58:55.968000Z",
     "start_time": "2019-05-18T17:58:55.955000Z"
    }
   },
   "outputs": [
    {
     "name": "stdout",
     "output_type": "stream",
     "text": [
      "[3.532314097204738, 0.023596303858389196, 1.3485217062362682, 0.0, 0.7720784206284724] 3.859069259116456\n"
     ]
    }
   ],
   "source": [
    "print(EBLUPNE(NN_MDOOLSE),norm(EBLUPNE(NN_MDOOLSE)))"
   ]
  },
  {
   "cell_type": "code",
   "execution_count": 25,
   "metadata": {
    "ExecuteTime": {
     "end_time": "2019-05-18T17:58:55.985000Z",
     "start_time": "2019-05-18T17:58:55.975000Z"
    }
   },
   "outputs": [
    {
     "name": "stdout",
     "output_type": "stream",
     "text": [
      "[3.532314097204738, 0.023596303858389168, 1.3485217062362684, 0.0, 0.772078420628477] 3.859069259116457\n"
     ]
    }
   ],
   "source": [
    "#cross-checking\n",
    "print(EBLUPNEgen(NN_MDOOLSE), norm(EBLUPNEgen(NN_MDOOLSE)))"
   ]
  },
  {
   "cell_type": "markdown",
   "metadata": {},
   "source": [
    "***\n",
    "<a id=references></a>\n",
    "# <font color=brown> References </font>\n",
    "This notebook belongs to suplementary materials of the paper submitted to Statistical Papers and available at <https://arxiv.org/abs/1905.07771>.\n",
    "\n",
    "* Hančová, M., Vozáriková, G., Gajdoš, A., Hanč, J. (2019). [Estimating variance components in time series\n",
    "\tlinear regression models using empirical BLUPs and convex optimization](https://arxiv.org/abs/1905.07771), https://arxiv.org/, 2019.  \n",
    "\n",
    "### Abstract of the paper\n",
    "\n",
    "We propose a two-stage estimation method of variance components in time series models known as FDSLRMs, whose observations can be described by a linear mixed model (LMM). We based estimating variances, fundamental quantities in a time series forecasting approach called kriging, on the empirical (plug-in) best linear unbiased predictions of unobservable random components in FDSLRM. \n",
    "\n",
    "The method, providing invariant non-negative quadratic estimators, can be used for any absolutely continuous probability distribution of time series data. As a result of applying the convex optimization and the LMM methodology, we resolved two problems $-$ theoretical existence and equivalence between least squares estimators, non-negative (M)DOOLSE, and maximum likelihood estimators, (RE)MLE, as possible starting points of our method and a \n",
    "practical lack of computational implementation for FDSLRM. As for computing (RE)MLE in the case of $ n $ observed time series values, we also discovered a new algorithm of order $\\mathcal{O}(n)$, which at the default precision is $10^7$ times more accurate and $n^2$ times faster than the best current Python(or R)-based computational packages, namely CVXPY, CVXR, nlme, sommer and mixed. \n",
    "\n",
    "We illustrate our results on three real data sets $-$ electricity consumption, tourism and cyber security $-$ which are easily available, reproducible, sharable and modifiable in the form of interactive Jupyter notebooks."
   ]
  },
  {
   "cell_type": "markdown",
   "metadata": {},
   "source": [
    "* Gajdoš, A., Hančová, M., Hanč, J. (2017). [Kriging Methodology and Its Development in Forecasting Econometric Time Series](https://www.czso.cz/csu/czso/statistika-statistics-and-economy-journal-no-12017). _Statistica: Statistics and Economy Journal_, 2017, Vol. 97, No. 1, pp. 59–73\n",
    "$~$\n",
    "* Štulajter, F., Witkovský, V. (2004). [Estimation of Variances in Orthogonal Finite\n",
    "Discrete Spectrum Linear Regression Models](https://link.springer.com/article/10.1007/s001840300299). _Metrika_, 2004, Vol. 60, No. 2, pp. 105–118"
   ]
  },
  {
   "cell_type": "markdown",
   "metadata": {},
   "source": [
    "| [Table of Contents](#table_of_contents) | [Data and model](#data_and_model) | [Natural estimators](#natural_estimators) |  [NN-DOOLSE, MLE](#doolse) | [NN-MDOOLSE, REMLE](#mdoolse) | [References](#references) |"
   ]
  }
 ],
 "metadata": {
  "kernelspec": {
   "display_name": "Python 2.7",
   "language": "python",
   "name": "python2"
  },
  "language_info": {
   "codemirror_mode": {
    "name": "ipython",
    "version": 2
   },
   "file_extension": ".py",
   "mimetype": "text/x-python",
   "name": "python",
   "nbconvert_exporter": "python",
   "pygments_lexer": "ipython2",
   "version": "2.7.16"
  },
  "latex_envs": {
   "LaTeX_envs_menu_present": true,
   "autoclose": false,
   "autocomplete": true,
   "bibliofile": "biblio.bib",
   "cite_by": "apalike",
   "current_citInitial": 1,
   "eqLabelWithNumbers": true,
   "eqNumInitial": 1,
   "hotkeys": {
    "equation": "Ctrl-E",
    "itemize": "Ctrl-I"
   },
   "labels_anchors": false,
   "latex_user_defs": false,
   "report_style_numbering": false,
   "user_envs_cfg": false
  },
  "varInspector": {
   "cols": {
    "lenName": 16,
    "lenType": 16,
    "lenVar": 40
   },
   "kernels_config": {
    "python": {
     "delete_cmd_postfix": "",
     "delete_cmd_prefix": "del ",
     "library": "var_list.py",
     "varRefreshCmd": "print(var_dic_list())"
    },
    "r": {
     "delete_cmd_postfix": ") ",
     "delete_cmd_prefix": "rm(",
     "library": "var_list.r",
     "varRefreshCmd": "cat(var_dic_list()) "
    }
   },
   "types_to_exclude": [
    "module",
    "function",
    "builtin_function_or_method",
    "instance",
    "_Feature"
   ],
   "window_display": false
  }
 },
 "nbformat": 4,
 "nbformat_minor": 2
}
