{
 "cells": [
  {
   "cell_type": "markdown",
   "metadata": {},
   "source": [
    "| [Table of Contents](#table_of_contents) | [Data and model](#data_and_model) | [Natural estimators](#natural_estimators) |  [NN-DOOLSE, MLE](#doolse) | [NN-MDOOLSE, REMLE](#mdoolse) | [References](#references) |"
   ]
  },
  {
   "cell_type": "markdown",
   "metadata": {},
   "source": [
    "**Authors:** Jozef Hanč, Martina Hančová, Andrej Gajdoš  <br> *[Faculty of Science](https://www.upjs.sk/en/faculty-of-science/?prefferedLang=EN), P. J. Šafárik University in Košice, Slovakia* <br> emails: [martina.hancova@upjs.sk](mailto:martina.hancova@upjs.sk)\n",
    "***\n",
    "**<font size=6 color=brown> EBLUP-NE for electricity consumption 1</font>** "
   ]
  },
  {
   "cell_type": "markdown",
   "metadata": {},
   "source": [
    "<font size=4> Python-based computational tools - </font>  **<font size=4>SageMath</font>**  \n",
    "<a id=table_of_contents></a>\n",
    "###  Table of Contents \n",
    "* [Data and model](#data_and_model) - data and model description of empirical data\n",
    "* [Natural estimators](#natural_estimators) - EBLUPNE based on NE\n",
    "* [NN-DOOLSE, MLE](#doolse) - EBLUPNE based on nonnegative DOOLSE (same as MLE)\n",
    "* [NN-MDOOLSE, REMLE](#mdoolse) - EBLUPNE based on nonnegative MDOOLSE (same as REMLE)\n",
    "* [References](#references)\n",
    "\n",
    "**To get back to the contents, use <font color=brown>the Home key</font>.**"
   ]
  },
  {
   "cell_type": "markdown",
   "metadata": {},
   "source": [
    "## SageMath - precision and functions\n",
    "SageMath is a free Python-based mathematics software, an open source alternative to the well-known commercial \n",
    "computer algebra systems Mathematica or Maple, which is built on top of SciPy ecosystem, Maxima, R, GAP, FLINT and many others open-source packages; http://www.sagemath.org/"
   ]
  },
  {
   "cell_type": "code",
   "execution_count": 1,
   "metadata": {
    "ExecuteTime": {
     "end_time": "2019-05-10T17:02:54.361000Z",
     "start_time": "2019-05-10T17:02:54.284000Z"
    }
   },
   "outputs": [],
   "source": [
    "# arbitrary precision in dps decimal places for numerical results \n",
    "dps = 20\n",
    "\n",
    "# precision in bits, real (floating-point) numbers with given precision  \n",
    "bits = round((dps+1)*ln(10)/ln(2))\n",
    "RRk = RealField(bits)\n",
    "\n",
    "# simplifying any symbolic matrix, vector\n",
    "def simplify_matrix(A): return A.apply_map(lambda item: item.expand())\n",
    "\n",
    "# converting symbolic matrix, vector to numerical in RRk\n",
    "def RRk_matrix(A): return A.apply_map(RRk)\n",
    "\n",
    "from itertools import product"
   ]
  },
  {
   "cell_type": "markdown",
   "metadata": {},
   "source": [
    "***\n",
    "<a id=data_and_model></a>\n",
    "# <font color=brown>Data and Toy model 1</font>"
   ]
  },
  {
   "cell_type": "markdown",
   "metadata": {},
   "source": [
    "In this FDSLRM application, we model the econometric time series data set, representing the hours observations of the consumption of the electric energy in some department store. The number of time series observations is $n=24$. The data was adapted from _Štulajter & Witkovský, 2004_ and the FDSLRM model from _Gajdoš et al 2017_.\n",
    "\n",
    "The consumption data can be fitted by the following Gaussian orthogonal FDSLRM:\n",
    "\n",
    "$ \n",
    "\\begin{array}{rl}\n",
    "& X(t) & \\!  = \\! & \\beta_1+\\beta_2\\cos\\left(\\tfrac{2\\pi t}{24}\\right)+\\beta_3\\sin\\left(\\tfrac{2\\pi t}{24}\\right) +\\\\\n",
    "&      &         & +Y_1\\cos\\left(\\tfrac{2\\pi t\\cdot 3}{24}\\right)+Y_2\\sin\\left(\\tfrac{2\\pi t\\cdot 3}{24}\\right)+\\\\\n",
    "&      &         & +Y_3\\cos\\left(\\tfrac{2\\pi t\\cdot 4}{24}\\right)+Y_4\\sin\\left(\\tfrac{2\\pi t\\cdot 4}{24}\\right)\n",
    "+w(t), \\, t\\in \\mathbb{N},\n",
    "\\end{array}\n",
    "$ \n",
    "\n",
    "where $\\boldsymbol{\\beta}=(\\beta_1,\\,\\beta_2,\\,\\beta_3)' \\in \\mathbb{R}^3\\,,\\mathbf{Y} = (Y_1, Y_2, Y_3, Y_4)' \\sim \\mathcal{N}_4(\\boldsymbol{0}, \\mathrm{D})\\,, w(t) \\sim \\mathcal{iid}\\, \\mathcal{N} (0, \\sigma_0^2)\\,, \\boldsymbol{\\nu}= (\\sigma_0^2, \\sigma_1^2, \\sigma_2^2, \\sigma_3^2, \\sigma_4^2) \\in \\mathbb{R}_{+}^5.$ "
   ]
  },
  {
   "cell_type": "code",
   "execution_count": 2,
   "metadata": {
    "ExecuteTime": {
     "end_time": "2019-05-10T17:02:54.362000Z",
     "start_time": "2019-05-10T17:02:54.287Z"
    }
   },
   "outputs": [
    {
     "data": {
      "text/plain": [
       "[403/10 407/10   77/2 379/10  193/5 411/10  226/5 457/10 467/10   93/2  226/5 451/10  229/5 463/10   95/2   97/2 491/10 517/10  253/5     48 447/10  206/5     40 403/10]"
      ]
     },
     "execution_count": 2,
     "metadata": {},
     "output_type": "execute_result"
    }
   ],
   "source": [
    "# data - time series observation x\n",
    "data = [40.3,40.7,38.5,37.9,38.6,41.1,45.2,45.7,46.7,46.5,\n",
    "        45.2,45.1,45.8,46.3,47.5,48.5,49.1,51.7,50.6,48.0,\n",
    "        44.7,41.2,40.0,40.3]\n",
    "\n",
    "# observation x as a one-column matrix of rational numbers (infinite precision)\n",
    "x = matrix(QQ, data).T\n",
    "xc = x.T\n",
    "xc"
   ]
  },
  {
   "cell_type": "code",
   "execution_count": 3,
   "metadata": {
    "ExecuteTime": {
     "end_time": "2019-05-10T17:02:54.364000Z",
     "start_time": "2019-05-10T17:02:54.289Z"
    }
   },
   "outputs": [],
   "source": [
    "# model parameters\n",
    "n, k, l = 24, 3, 4\n",
    "\n",
    "# significant frequencies\n",
    "om1, om2, om3 = 2*pi/24, 2*pi/8, 2*pi/6\n",
    "\n",
    "# model design matrices F', F, V',V\n",
    "Fc = matrix([[1 for t in range(1,n+1)],\n",
    "             [cos(om1*t) for t in range(1,n+1)],\n",
    "             [sin(om1*t) for t in range(1,n+1)]])\n",
    "Vc = matrix([[cos(om2*t) for t in range(1,n+1)],\n",
    "             [sin(om2*t) for t in range(1,n+1)],\n",
    "             [cos(om3*t) for t in range(1,n+1)],\n",
    "             [sin(om3*t) for t in range(1,n+1)]])\n",
    "F, V = Fc.T, Vc.T\n",
    "\n",
    "# columns vj of V and their squared norm ||vj||^2\n",
    "vv = lambda j: V[:,j-1]\n",
    "nv2 = lambda j: (vv(j).T*vv(j)).trace().expand()"
   ]
  },
  {
   "cell_type": "code",
   "execution_count": 4,
   "metadata": {
    "ExecuteTime": {
     "end_time": "2019-05-10T17:02:54.366000Z",
     "start_time": "2019-05-10T17:02:54.291Z"
    }
   },
   "outputs": [],
   "source": [
    "# auxiliary matrices and vectors\n",
    "\n",
    "# Gram matrices GF, GV\n",
    "GF, GV = (Fc*F).expand(), (Vc*V).expand()\n",
    "InvGF, InvGV = (GF^(-1)).expand(), (GV^(-1)).expand()\n",
    "\n",
    "# projectors PF, MF, PV, MV\n",
    "In = identity_matrix(n)\n",
    "PF = (F*InvGF*Fc).canonicalize_radical().expand()\n",
    "PV = (V*InvGV*Vc).canonicalize_radical().expand()\n",
    "MF, MV = (In-PF).expand(), (In-PV).expand()\n",
    "\n",
    "# residuals e, e'\n",
    "e = MF*x\n",
    "ec = e.T"
   ]
  },
  {
   "cell_type": "code",
   "execution_count": 5,
   "metadata": {
    "ExecuteTime": {
     "end_time": "2019-05-12T14:02:10.103000Z",
     "start_time": "2019-05-12T14:02:10.091000Z"
    }
   },
   "outputs": [
    {
     "data": {
      "text/html": [
       "<html><script type=\"math/tex; mode=display\">\\newcommand{\\Bold}[1]{\\mathbf{#1}}\\left(\\begin{array}{rrrr}\n",
       "0 & 0 & 0 & 0 \\\\\n",
       "0 & 0 & 0 & 0 \\\\\n",
       "0 & 0 & 0 & 0\n",
       "\\end{array}\\right)</script></html>"
      ],
      "text/plain": [
       "[0 0 0 0]\n",
       "[0 0 0 0]\n",
       "[0 0 0 0]"
      ]
     },
     "metadata": {},
     "output_type": "display_data"
    },
    {
     "data": {
      "text/html": [
       "<html><script type=\"math/tex; mode=display\">\\newcommand{\\Bold}[1]{\\mathbf{#1}}\\left(\\begin{array}{rrrr}\n",
       "12 & 0 & 0 & 0 \\\\\n",
       "0 & 12 & 0 & 0 \\\\\n",
       "0 & 0 & 12 & 0 \\\\\n",
       "0 & 0 & 0 & 12\n",
       "\\end{array}\\right)</script></html>"
      ],
      "text/plain": [
       "[12  0  0  0]\n",
       "[ 0 12  0  0]\n",
       "[ 0  0 12  0]\n",
       "[ 0  0  0 12]"
      ]
     },
     "metadata": {},
     "output_type": "display_data"
    }
   ],
   "source": [
    "# orthogonality condition\n",
    "show((Fc*V).expand())\n",
    "show(GV)"
   ]
  },
  {
   "cell_type": "markdown",
   "metadata": {},
   "source": [
    "***\n",
    "<a id=natural_estimators></a>\n",
    "# <font color=brown> Natural estimators</font>\n",
    "\n",
    "## ANALYTICALLY \n",
    "using formula (4.1) from _Hancova et al 2019_\n",
    "\n",
    ">$\n",
    "\\renewcommand{\\arraystretch}{1.4}\n",
    "\\breve{\\boldsymbol{\\nu}}(\\mathbf{e}) =\n",
    "\\begin{pmatrix}\n",
    "\\tfrac{1}{n-k-l}\\,\\mathbf{e}'\\,\\mathrm{M_V}\\,\\mathbf{e} \\\\\n",
    "(\\mathbf{e}'\\mathbf{v}_1)^2/||\\mathbf{v}_1||^4 \\\\\n",
    "\\vdots \\\\\n",
    "(\\mathbf{e}'\\mathbf{v}_l)^2/||\\mathbf{v}_l||^4\n",
    "\\end{pmatrix} \n",
    "$\n",
    "\n",
    "## $\\boldsymbol{1^{st}}$ stage of EBLUP-NE "
   ]
  },
  {
   "cell_type": "code",
   "execution_count": 6,
   "metadata": {
    "ExecuteTime": {
     "end_time": "2019-05-10T17:02:54.367000Z",
     "start_time": "2019-05-10T17:02:54.293Z"
    }
   },
   "outputs": [],
   "source": [
    "# NE according to formula (4.1)\n",
    "NE0 = [1/(n-k-l)*(ec*MV*e).trace()]\n",
    "NEj = [((ec*vv(j)).trace()/nv2(j))^2 for j in [1..l]] \n",
    "NE = vector(NE0+NEj)"
   ]
  },
  {
   "cell_type": "code",
   "execution_count": 7,
   "metadata": {
    "ExecuteTime": {
     "end_time": "2019-05-10T17:02:54.369000Z",
     "start_time": "2019-05-10T17:02:54.296Z"
    }
   },
   "outputs": [
    {
     "data": {
      "text/html": [
       "<html><script type=\"math/tex; mode=display\">\\newcommand{\\Bold}[1]{\\mathbf{#1}}\\left(\\begin{array}{r}\n",
       "-\\frac{6569}{4080} \\, \\sqrt{3} \\sqrt{2} - \\frac{46513}{20400} \\, \\sqrt{3} - \\frac{22533}{6800} \\, \\sqrt{2} + \\frac{13147}{816} \\\\\n",
       "\\frac{21}{160} \\, \\sqrt{2} + \\frac{2683}{14400} \\\\\n",
       "\\frac{4429}{7200} \\, \\sqrt{2} + \\frac{4769}{4800} \\\\\n",
       "\\frac{1}{225} \\\\\n",
       "\\frac{507}{400}\n",
       "\\end{array}\\right)</script></html>"
      ],
      "text/plain": [
       "[-6569/4080*sqrt(3)*sqrt(2) - 46513/20400*sqrt(3) - 22533/6800*sqrt(2) + 13147/816]\n",
       "[                                                      21/160*sqrt(2) + 2683/14400]\n",
       "[                                                    4429/7200*sqrt(2) + 4769/4800]\n",
       "[                                                                            1/225]\n",
       "[                                                                          507/400]"
      ]
     },
     "metadata": {},
     "output_type": "display_data"
    }
   ],
   "source": [
    "# final NE\n",
    "NEsimp = NE.column().expand()\n",
    "show(NEsimp)"
   ]
  },
  {
   "cell_type": "code",
   "execution_count": 8,
   "metadata": {
    "ExecuteTime": {
     "end_time": "2019-05-10T17:02:54.371000Z",
     "start_time": "2019-05-10T17:02:54.299Z"
    }
   },
   "outputs": [
    {
     "data": {
      "text/plain": [
       "[   3.5323140972047290984]\n",
       "[  0.37193497450591316960]\n",
       "[   1.8634794260764497182]\n",
       "[0.0044444444444444444444]\n",
       "[   1.2675000000000000000]"
      ]
     },
     "execution_count": 8,
     "metadata": {},
     "output_type": "execute_result"
    }
   ],
   "source": [
    "# numerical results with given precision in dps\n",
    "NEnum = RRk_matrix(NEsimp)\n",
    "NEnum"
   ]
  },
  {
   "cell_type": "code",
   "execution_count": 9,
   "metadata": {
    "ExecuteTime": {
     "end_time": "2019-05-10T17:02:54.372000Z",
     "start_time": "2019-05-10T17:02:54.301Z"
    }
   },
   "outputs": [
    {
     "data": {
      "text/plain": [
       "4.206508062641579"
      ]
     },
     "execution_count": 9,
     "metadata": {},
     "output_type": "execute_result"
    }
   ],
   "source": [
    "NEnum.norm()"
   ]
  },
  {
   "cell_type": "markdown",
   "metadata": {},
   "source": [
    "## $\\boldsymbol{2^{nd}}$ stage of EBLUP-NE\n",
    "using formula (3.10) from _Hancova et al 2019_.\n",
    ">$\n",
    "\\mathring{\\nu}_j = \\rho_j^2 \\breve{\\nu}_j; j = 0,1 \\ldots, l\\\\\n",
    "\\rho_0 = 1, \\rho_j = \\dfrac{\\hat{\\nu}_j||\\mathbf{v}_j||^2}{\\hat{\\nu}_0+\\hat{\\nu}_j||\\mathbf{v}_j||^2} \n",
    "$\n",
    ">\n",
    ">where $\\boldsymbol{\\breve{\\nu}}$ are NE,  $\\boldsymbol{\\hat{\\nu}}$ are initial estimates for EBLUP-NE"
   ]
  },
  {
   "cell_type": "code",
   "execution_count": 10,
   "metadata": {
    "ExecuteTime": {
     "end_time": "2019-05-10T17:02:54.374000Z",
     "start_time": "2019-05-10T17:02:54.303Z"
    }
   },
   "outputs": [],
   "source": [
    "# EBLUP-NE based on formula (3.9)\n",
    "rho2 = lambda est: vector( [1] + [ (est[j]*nv2(j)/(est[0]+est[j]*nv2(j)))^2 for j in [1..l] ])\n",
    "EBLUPNE = lambda est: vector( rho2(est).pairwise_product(NE).list() )"
   ]
  },
  {
   "cell_type": "code",
   "execution_count": 11,
   "metadata": {
    "ExecuteTime": {
     "end_time": "2019-05-10T17:02:54.376000Z",
     "start_time": "2019-05-10T17:02:54.305Z"
    },
    "scrolled": true
   },
   "outputs": [
    {
     "data": {
      "text/html": [
       "<html><script type=\"math/tex; mode=display\">\\newcommand{\\Bold}[1]{\\mathbf{#1}}\\left(\\begin{array}{r}\n",
       "-\\frac{6569}{4080} \\, \\sqrt{3} \\sqrt{2} - \\frac{46513}{20400} \\, \\sqrt{3} - \\frac{22533}{6800} \\, \\sqrt{2} + \\frac{13147}{816} \\\\\n",
       "-\\frac{58140346341 \\, \\sqrt{2}}{160 \\, {\\left(7095769382 \\, \\sqrt{3} \\sqrt{2} + 10052804072 \\, \\sqrt{3} + 5794927786 \\, \\sqrt{2} - 51856417125\\right)}} - \\frac{22200174206443}{43200 \\, {\\left(7095769382 \\, \\sqrt{3} \\sqrt{2} + 10052804072 \\, \\sqrt{3} + 5794927786 \\, \\sqrt{2} - 51856417125\\right)}} \\\\\n",
       "-\\frac{39474566680703 \\, \\sqrt{2}}{288 \\, {\\left(45287665522 \\, \\sqrt{3} \\sqrt{2} + 64103843304 \\, \\sqrt{3} - 104085851666 \\, \\sqrt{2} - 353799573231\\right)}} - \\frac{310322553535051}{1600 \\, {\\left(45287665522 \\, \\sqrt{3} \\sqrt{2} + 64103843304 \\, \\sqrt{3} - 104085851666 \\, \\sqrt{2} - 353799573231\\right)}} \\\\\n",
       "-\\frac{591872}{675 \\, {\\left(2562277816 \\, \\sqrt{3} \\sqrt{2} + 3632562703 \\, \\sqrt{3} + 5902830194 \\, \\sqrt{2} - 21807671238\\right)}} \\\\\n",
       "-\\frac{3050750840787}{50 \\, {\\left(17842376068 \\, \\sqrt{3} \\sqrt{2} + 25279321657 \\, \\sqrt{3} + 38609830986 \\, \\sqrt{2} - 215185497470\\right)}}\n",
       "\\end{array}\\right)</script></html>"
      ],
      "text/plain": [
       "[                                                                                                                                                     -6569/4080*sqrt(3)*sqrt(2) - 46513/20400*sqrt(3) - 22533/6800*sqrt(2) + 13147/816]\n",
       "[           -58140346341/160*sqrt(2)/(7095769382*sqrt(3)*sqrt(2) + 10052804072*sqrt(3) + 5794927786*sqrt(2) - 51856417125) - 22200174206443/43200/(7095769382*sqrt(3)*sqrt(2) + 10052804072*sqrt(3) + 5794927786*sqrt(2) - 51856417125)]\n",
       "[-39474566680703/288*sqrt(2)/(45287665522*sqrt(3)*sqrt(2) + 64103843304*sqrt(3) - 104085851666*sqrt(2) - 353799573231) - 310322553535051/1600/(45287665522*sqrt(3)*sqrt(2) + 64103843304*sqrt(3) - 104085851666*sqrt(2) - 353799573231)]\n",
       "[                                                                                                                                      -591872/675/(2562277816*sqrt(3)*sqrt(2) + 3632562703*sqrt(3) + 5902830194*sqrt(2) - 21807671238)]\n",
       "[                                                                                                                            -3050750840787/50/(17842376068*sqrt(3)*sqrt(2) + 25279321657*sqrt(3) + 38609830986*sqrt(2) - 215185497470)]"
      ]
     },
     "metadata": {},
     "output_type": "display_data"
    }
   ],
   "source": [
    "# final EBLUPNE based on NE\n",
    "EBLUPNEsimp = EBLUPNE(NE).column().expand()\n",
    "show(EBLUPNEsimp)"
   ]
  },
  {
   "cell_type": "code",
   "execution_count": 12,
   "metadata": {
    "ExecuteTime": {
     "end_time": "2019-05-10T17:02:54.378000Z",
     "start_time": "2019-05-10T17:02:54.307Z"
    }
   },
   "outputs": [
    {
     "data": {
      "text/plain": [
       "[                        1]\n",
       "[   0.31160298070636086388]\n",
       "[   0.74578072518084832926]\n",
       "[0.00022123930617640118797]\n",
       "[   0.65858525704640917570]"
      ]
     },
     "execution_count": 12,
     "metadata": {},
     "output_type": "execute_result"
    }
   ],
   "source": [
    "# numerical results\n",
    "rho2(NEnum).column()"
   ]
  },
  {
   "cell_type": "code",
   "execution_count": 13,
   "metadata": {
    "ExecuteTime": {
     "end_time": "2019-05-10T17:02:54.380000Z",
     "start_time": "2019-05-10T17:02:54.309Z"
    }
   },
   "outputs": [
    {
     "data": {
      "text/plain": [
       "[   3.5323140972047290984]\n",
       "[  0.11589604668498688117]\n",
       "[   1.3897470377388857171]\n",
       "[9.8328580522844972432e-7]\n",
       "[  0.83475681330632363020]"
      ]
     },
     "execution_count": 13,
     "metadata": {},
     "output_type": "execute_result"
    }
   ],
   "source": [
    "EBLUPNEnum = RRk_matrix(EBLUPNEsimp)\n",
    "EBLUPNEnum "
   ]
  },
  {
   "cell_type": "code",
   "execution_count": 14,
   "metadata": {
    "ExecuteTime": {
     "end_time": "2019-05-10T17:02:54.382000Z",
     "start_time": "2019-05-10T17:02:54.310Z"
    }
   },
   "outputs": [
    {
     "data": {
      "text/plain": [
       "3.88830175542161"
      ]
     },
     "execution_count": 14,
     "metadata": {},
     "output_type": "execute_result"
    }
   ],
   "source": [
    "EBLUPNEnum.norm()"
   ]
  },
  {
   "cell_type": "markdown",
   "metadata": {},
   "source": [
    "***\n",
    "<a id=doolse></a>\n",
    "# <font color=brown> NN-DOOLSE or MLE</font>\n",
    "\n",
    "## $\\boldsymbol{1^{st}}$ stage of EBLUP-NE "
   ]
  },
  {
   "cell_type": "markdown",
   "metadata": {},
   "source": [
    "## KKT algorithm\n",
    "using the the KKT algorithm (tab.3, _Hancova et al 2019_)  \n",
    "<img src='KKTscheme.png' width=550 align='left'>  \n",
    "\n",
    "$~$\n",
    ">$\n",
    "\\qquad \\mathbf{q} = \n",
    "\\left(\\begin{array}{c}\n",
    "\\mathbf{e}'  \\mathbf{e}\\\\\n",
    "(\\mathbf{e}'   \\mathbf{v}_{1})^2 \\\\\n",
    "\\vdots \\\\\n",
    "(\\mathbf{e}'   \\mathbf{v}_{l})^2\n",
    "\\end{array}\\right)\n",
    "$\n",
    ">\n",
    "> $\\qquad\\mathrm{G} = \\left(\\begin{array}{ccccc}\n",
    "\\small\n",
    "n^*                  & ||\\mathbf{v}_{1}||^2 & ||\\mathbf{v}_{2}||^2 & \\ldots & ||\\mathbf{v}_{l}||^2 \\\\\n",
    "||\\mathbf{v}_{1}||^2 & ||\\mathbf{v}_{1}||^4 & 0                    & \\ldots & 0 \\\\\n",
    "||\\mathbf{v}_{2}||^2 & 0                    & ||\\mathbf{v}_{2}||^4 & \\ldots & 0 \\\\\n",
    "\\vdots               & \\vdots               & \\vdots               & \\ldots & \\vdots \\\\\n",
    "||\\mathbf{v}_{l}||^2 & 0                    & 0                    & \\ldots & ||\\mathbf{v}_{l}||^4\n",
    "\\end{array}\\right)\n",
    "$"
   ]
  },
  {
   "cell_type": "code",
   "execution_count": 15,
   "metadata": {
    "ExecuteTime": {
     "end_time": "2019-05-10T17:02:54.384000Z",
     "start_time": "2019-05-10T17:02:54.312Z"
    }
   },
   "outputs": [],
   "source": [
    "# Input: form G\n",
    "ns = n\n",
    "u, v, Q  = ns, matrix([nv2(j) for j in [1..l]]), diagonal_matrix([nv2(j)^2 for j in [1..l]])\n",
    "G = block_matrix([[u,v],[v.T,Q]])"
   ]
  },
  {
   "cell_type": "code",
   "execution_count": 16,
   "metadata": {
    "ExecuteTime": {
     "end_time": "2019-05-10T17:02:54.386000Z",
     "start_time": "2019-05-10T17:02:54.314Z"
    }
   },
   "outputs": [],
   "source": [
    "# form q\n",
    "e2, Ve2 = ec*e, (Vc*e).elementwise_product(Vc*e)\n",
    "q = e2.stack(Ve2).expand()"
   ]
  },
  {
   "cell_type": "code",
   "execution_count": 17,
   "metadata": {
    "ExecuteTime": {
     "end_time": "2019-05-10T17:02:54.387000Z",
     "start_time": "2019-05-10T17:02:54.316Z"
    }
   },
   "outputs": [],
   "source": [
    "# body of the algorithm\n",
    "for b in product([0,1], repeat=l+1): \n",
    "    # set the KKT-conditions matrix K\n",
    "    K = G*1\n",
    "    for j in range(l+1): \n",
    "        if b[j] == 1: K[0,j], K[j,j]  = 0,-1\n",
    "    # calculate the auxiliary vector g\n",
    "    g = K^(-1)*q\n",
    "    # test non-negativity g\n",
    "    if RRk(min(g.list()))>=0: break   "
   ]
  },
  {
   "cell_type": "code",
   "execution_count": 18,
   "metadata": {
    "ExecuteTime": {
     "end_time": "2019-05-10T17:02:54.389000Z",
     "start_time": "2019-05-10T17:02:54.318Z"
    }
   },
   "outputs": [],
   "source": [
    "# Output: Form estimates nu\n",
    "nu = g*1\n",
    "for j in range(l+1):\n",
    "    if b[j] == 1: nu[j] = 0"
   ]
  },
  {
   "cell_type": "code",
   "execution_count": 19,
   "metadata": {
    "ExecuteTime": {
     "end_time": "2019-05-10T17:02:54.390000Z",
     "start_time": "2019-05-10T17:02:54.320Z"
    }
   },
   "outputs": [
    {
     "data": {
      "text/html": [
       "<html><script type=\"math/tex; mode=display\">\\newcommand{\\Bold}[1]{\\mathbf{#1}}\\left(\\begin{array}{r}\n",
       "-\\frac{6569}{5040} \\, \\sqrt{3} \\sqrt{2} - \\frac{46513}{25200} \\, \\sqrt{3} - \\frac{1073}{400} \\, \\sqrt{2} + \\frac{328739}{25200} \\\\\n",
       "\\frac{6569}{60480} \\, \\sqrt{3} \\sqrt{2} + \\frac{46513}{302400} \\, \\sqrt{3} + \\frac{1703}{4800} \\, \\sqrt{2} - \\frac{68099}{75600} \\\\\n",
       "\\frac{6569}{60480} \\, \\sqrt{3} \\sqrt{2} + \\frac{46513}{302400} \\, \\sqrt{3} + \\frac{12077}{14400} \\, \\sqrt{2} - \\frac{7073}{75600} \\\\\n",
       "0 \\\\\n",
       "\\frac{6569}{60480} \\, \\sqrt{3} \\sqrt{2} + \\frac{46513}{302400} \\, \\sqrt{3} + \\frac{1073}{4800} \\, \\sqrt{2} + \\frac{54553}{302400}\n",
       "\\end{array}\\right)</script></html>"
      ],
      "text/plain": [
       "[  -6569/5040*sqrt(3)*sqrt(2) - 46513/25200*sqrt(3) - 1073/400*sqrt(2) + 328739/25200]\n",
       "[ 6569/60480*sqrt(3)*sqrt(2) + 46513/302400*sqrt(3) + 1703/4800*sqrt(2) - 68099/75600]\n",
       "[6569/60480*sqrt(3)*sqrt(2) + 46513/302400*sqrt(3) + 12077/14400*sqrt(2) - 7073/75600]\n",
       "[                                                                                   0]\n",
       "[6569/60480*sqrt(3)*sqrt(2) + 46513/302400*sqrt(3) + 1073/4800*sqrt(2) + 54553/302400]"
      ]
     },
     "metadata": {},
     "output_type": "display_data"
    }
   ],
   "source": [
    "# final DOOLSE\n",
    "DOOLSE = nu\n",
    "show(DOOLSE)"
   ]
  },
  {
   "cell_type": "code",
   "execution_count": 20,
   "metadata": {
    "ExecuteTime": {
     "end_time": "2019-05-10T17:02:54.392000Z",
     "start_time": "2019-05-10T17:02:54.322Z"
    },
    "scrolled": true
   },
   "outputs": [
    {
     "name": "stdout",
     "output_type": "stream",
     "text": [
      "([ 2.8620320469435108574]\n",
      "[0.13343230392728726481]\n",
      "[ 1.6249767554978238134]\n",
      "[0.00000000000000000000]\n",
      "[ 1.0289973294213740952], 3.4508573684415826, (0, 0, 0, 1, 0))\n"
     ]
    }
   ],
   "source": [
    "# numerical results\n",
    "DOOLSEnum = RRk_matrix(DOOLSE)\n",
    "print(DOOLSEnum, DOOLSE.norm(),b)"
   ]
  },
  {
   "cell_type": "markdown",
   "metadata": {},
   "source": [
    "## $\\boldsymbol{2^{nd}}$ stage of EBLUP-NE"
   ]
  },
  {
   "cell_type": "code",
   "execution_count": 21,
   "metadata": {
    "ExecuteTime": {
     "end_time": "2019-05-10T17:02:54.394000Z",
     "start_time": "2019-05-10T17:02:54.324Z"
    },
    "scrolled": true
   },
   "outputs": [
    {
     "data": {
      "text/html": [
       "<html><script type=\"math/tex; mode=display\">\\newcommand{\\Bold}[1]{\\mathbf{#1}}\\left(\\begin{array}{r}\n",
       "-\\frac{6569}{4080} \\, \\sqrt{3} \\sqrt{2} - \\frac{46513}{20400} \\, \\sqrt{3} - \\frac{22533}{6800} \\, \\sqrt{2} + \\frac{13147}{816} \\\\\n",
       "-\\frac{21241171347749 \\, \\sqrt{3} \\sqrt{2}}{3175200 \\, {\\left(10141740 \\, \\sqrt{2} + 14342689\\right)}} - \\frac{15019912056097 \\, \\sqrt{3}}{1587600 \\, {\\left(10141740 \\, \\sqrt{2} + 14342689\\right)}} + \\frac{3167509606099 \\, \\sqrt{2}}{264600 \\, {\\left(10141740 \\, \\sqrt{2} + 14342689\\right)}} + \\frac{21866439225581}{1270080 \\, {\\left(10141740 \\, \\sqrt{2} + 14342689\\right)}} \\\\\n",
       "\\frac{41628011575877 \\, \\sqrt{3} \\sqrt{2}}{453600 \\, {\\left(253462812 \\, \\sqrt{2} + 361618577\\right)}} + \\frac{206026395726467 \\, \\sqrt{3}}{1587600 \\, {\\left(253462812 \\, \\sqrt{2} + 361618577\\right)}} + \\frac{74204155155701 \\, \\sqrt{2}}{396900 \\, {\\left(253462812 \\, \\sqrt{2} + 361618577\\right)}} + \\frac{129704492788567}{423360 \\, {\\left(253462812 \\, \\sqrt{2} + 361618577\\right)}} \\\\\n",
       "0 \\\\\n",
       "\\frac{1234006393}{14488437600} \\, \\sqrt{3} \\sqrt{2} + \\frac{6978001999}{57953750400} \\, \\sqrt{3} + \\frac{8156693}{57153600} \\, \\sqrt{2} + \\frac{6269605267}{28976875200}\n",
       "\\end{array}\\right)</script></html>"
      ],
      "text/plain": [
       "[                                                                                                                                                                               -6569/4080*sqrt(3)*sqrt(2) - 46513/20400*sqrt(3) - 22533/6800*sqrt(2) + 13147/816]\n",
       "[        -21241171347749/3175200*sqrt(3)*sqrt(2)/(10141740*sqrt(2) + 14342689) - 15019912056097/1587600*sqrt(3)/(10141740*sqrt(2) + 14342689) + 3167509606099/264600*sqrt(2)/(10141740*sqrt(2) + 14342689) + 21866439225581/1270080/(10141740*sqrt(2) + 14342689)]\n",
       "[41628011575877/453600*sqrt(3)*sqrt(2)/(253462812*sqrt(2) + 361618577) + 206026395726467/1587600*sqrt(3)/(253462812*sqrt(2) + 361618577) + 74204155155701/396900*sqrt(2)/(253462812*sqrt(2) + 361618577) + 129704492788567/423360/(253462812*sqrt(2) + 361618577)]\n",
       "[                                                                                                                                                                                                                                                               0]\n",
       "[                                                                                                                                     1234006393/14488437600*sqrt(3)*sqrt(2) + 6978001999/57953750400*sqrt(3) + 8156693/57153600*sqrt(2) + 6269605267/28976875200]"
      ]
     },
     "metadata": {},
     "output_type": "display_data"
    }
   ],
   "source": [
    "# final EBLUPNE based on DOOLSE\n",
    "EBLUPNEsimp = EBLUPNE(DOOLSE).column().expand()\n",
    "show(EBLUPNEsimp)"
   ]
  },
  {
   "cell_type": "code",
   "execution_count": 22,
   "metadata": {
    "ExecuteTime": {
     "end_time": "2019-05-10T17:02:54.396000Z",
     "start_time": "2019-05-10T17:02:54.326Z"
    }
   },
   "outputs": [
    {
     "data": {
      "text/plain": [
       "[                     1]\n",
       "[0.12870278135360510016]\n",
       "[0.76040524092632442211]\n",
       "[                     0]\n",
       "[0.65907154135208143391]"
      ]
     },
     "execution_count": 22,
     "metadata": {},
     "output_type": "execute_result"
    }
   ],
   "source": [
    "# numerical results\n",
    "rho2(DOOLSEnum).column()"
   ]
  },
  {
   "cell_type": "code",
   "execution_count": 23,
   "metadata": {
    "ExecuteTime": {
     "end_time": "2019-05-10T17:02:54.398000Z",
     "start_time": "2019-05-10T17:02:54.328Z"
    }
   },
   "outputs": [
    {
     "data": {
      "text/plain": [
       "[  3.5323140972047290984]\n",
       "[0.047869065701593229783]\n",
       "[  1.4169995219469115088]\n",
       "[ 0.00000000000000000000]\n",
       "[ 0.83537317866376321748]"
      ]
     },
     "execution_count": 23,
     "metadata": {},
     "output_type": "execute_result"
    }
   ],
   "source": [
    "EBLUPNEnum = RRk_matrix(EBLUPNEsimp)\n",
    "EBLUPNEnum "
   ]
  },
  {
   "cell_type": "code",
   "execution_count": 24,
   "metadata": {
    "ExecuteTime": {
     "end_time": "2019-05-10T17:02:54.400000Z",
     "start_time": "2019-05-10T17:02:54.330Z"
    }
   },
   "outputs": [
    {
     "data": {
      "text/plain": [
       "3.8968282386565334"
      ]
     },
     "execution_count": 24,
     "metadata": {},
     "output_type": "execute_result"
    }
   ],
   "source": [
    "EBLUPNEnum.norm()"
   ]
  },
  {
   "cell_type": "markdown",
   "metadata": {},
   "source": [
    "***\n",
    "<a id=mdoolse></a>\n",
    "# <font color=brown> NN-MDOOLSE or REMLE</font>\n",
    "using the KKT algorithm (tab.3, _Hancova et al 2019_)\n",
    "\n",
    "## $\\boldsymbol{1^{st}}$ stage of EBLUP-NE "
   ]
  },
  {
   "cell_type": "code",
   "execution_count": 25,
   "metadata": {
    "ExecuteTime": {
     "end_time": "2019-05-10T17:02:54.402000Z",
     "start_time": "2019-05-10T17:02:54.332Z"
    }
   },
   "outputs": [],
   "source": [
    "# Input: form G\n",
    "ns = n-k\n",
    "u, v, Q  = ns, matrix([nv2(j) for j in [1..l]]), diagonal_matrix([nv2(j)^2 for j in [1..l]])\n",
    "G = block_matrix([[u,v],[v.T,Q]])"
   ]
  },
  {
   "cell_type": "code",
   "execution_count": 26,
   "metadata": {
    "ExecuteTime": {
     "end_time": "2019-05-10T17:02:54.404000Z",
     "start_time": "2019-05-10T17:02:54.334Z"
    }
   },
   "outputs": [],
   "source": [
    "# form q\n",
    "e2, Ve2 = ec*e, (Vc*e).elementwise_product(Vc*e)\n",
    "q = e2.stack(Ve2).expand()"
   ]
  },
  {
   "cell_type": "code",
   "execution_count": 27,
   "metadata": {
    "ExecuteTime": {
     "end_time": "2019-05-10T17:02:54.405000Z",
     "start_time": "2019-05-10T17:02:54.337Z"
    }
   },
   "outputs": [],
   "source": [
    "# body of the algorithm\n",
    "for b in product([0,1], repeat=l+1): \n",
    "    # set the KKT-conditions matrix K\n",
    "    K = G*1\n",
    "    for j in range(l+1): \n",
    "        if b[j] == 1: K[0,j], K[j,j]  = 0,-1\n",
    "    # calculate the auxiliary vector g\n",
    "    g = K^(-1)*q\n",
    "    # test non-negativity g\n",
    "    if RRk(min(g.list()))>=0: break   "
   ]
  },
  {
   "cell_type": "code",
   "execution_count": 28,
   "metadata": {
    "ExecuteTime": {
     "end_time": "2019-05-10T17:02:54.407000Z",
     "start_time": "2019-05-10T17:02:54.340Z"
    }
   },
   "outputs": [],
   "source": [
    "# Output: Form estimates nu\n",
    "nu = g*1\n",
    "for j in range(l+1):\n",
    "    if b[j] == 1: nu[j] = 0"
   ]
  },
  {
   "cell_type": "code",
   "execution_count": 29,
   "metadata": {
    "ExecuteTime": {
     "end_time": "2019-05-10T17:02:54.409000Z",
     "start_time": "2019-05-10T17:02:54.343Z"
    }
   },
   "outputs": [
    {
     "data": {
      "text/html": [
       "<html><script type=\"math/tex; mode=display\">\\newcommand{\\Bold}[1]{\\mathbf{#1}}\\left(\\begin{array}{r}\n",
       "-\\frac{6569}{4320} \\, \\sqrt{3} \\sqrt{2} - \\frac{46513}{21600} \\, \\sqrt{3} - \\frac{7511}{2400} \\, \\sqrt{2} + \\frac{328739}{21600} \\\\\n",
       "\\frac{6569}{51840} \\, \\sqrt{3} \\sqrt{2} + \\frac{46513}{259200} \\, \\sqrt{3} + \\frac{11291}{28800} \\, \\sqrt{2} - \\frac{56089}{51840} \\\\\n",
       "\\frac{6569}{51840} \\, \\sqrt{3} \\sqrt{2} + \\frac{46513}{259200} \\, \\sqrt{3} + \\frac{2803}{3200} \\, \\sqrt{2} - \\frac{71213}{259200} \\\\\n",
       "0 \\\\\n",
       "\\frac{6569}{51840} \\, \\sqrt{3} \\sqrt{2} + \\frac{46513}{259200} \\, \\sqrt{3} + \\frac{7511}{28800} \\, \\sqrt{2} - \\frac{203}{259200}\n",
       "\\end{array}\\right)</script></html>"
      ],
      "text/plain": [
       "[  -6569/4320*sqrt(3)*sqrt(2) - 46513/21600*sqrt(3) - 7511/2400*sqrt(2) + 328739/21600]\n",
       "[6569/51840*sqrt(3)*sqrt(2) + 46513/259200*sqrt(3) + 11291/28800*sqrt(2) - 56089/51840]\n",
       "[ 6569/51840*sqrt(3)*sqrt(2) + 46513/259200*sqrt(3) + 2803/3200*sqrt(2) - 71213/259200]\n",
       "[                                                                                    0]\n",
       "[  6569/51840*sqrt(3)*sqrt(2) + 46513/259200*sqrt(3) + 7511/28800*sqrt(2) - 203/259200]"
      ]
     },
     "metadata": {},
     "output_type": "display_data"
    }
   ],
   "source": [
    "# final MDOOLSE\n",
    "MDOOLSE = nu\n",
    "show(MDOOLSE)"
   ]
  },
  {
   "cell_type": "code",
   "execution_count": 30,
   "metadata": {
    "ExecuteTime": {
     "end_time": "2019-05-10T17:02:54.411000Z",
     "start_time": "2019-05-10T17:02:54.345Z"
    },
    "scrolled": true
   },
   "outputs": [
    {
     "name": "stdout",
     "output_type": "stream",
     "text": [
      "([  3.3390373881007626670]\n",
      "[0.093681858830849614018]\n",
      "[  1.5852263104013861626]\n",
      "[ 0.00000000000000000000]\n",
      "[ 0.98924688432493644442], 3.827466371262348, (0, 0, 0, 1, 0))\n"
     ]
    }
   ],
   "source": [
    "# numerical results\n",
    "MDOOLSEnum = RRk_matrix(nu)\n",
    "print(MDOOLSEnum, MDOOLSE.norm(),b)"
   ]
  },
  {
   "cell_type": "markdown",
   "metadata": {},
   "source": [
    "## $\\boldsymbol{2^{nd}}$ stage of EBLUP-NE"
   ]
  },
  {
   "cell_type": "code",
   "execution_count": 31,
   "metadata": {
    "ExecuteTime": {
     "end_time": "2019-05-10T17:02:54.413000Z",
     "start_time": "2019-05-10T17:02:54.349Z"
    },
    "scrolled": true
   },
   "outputs": [
    {
     "data": {
      "text/html": [
       "<html><script type=\"math/tex; mode=display\">\\newcommand{\\Bold}[1]{\\mathbf{#1}}\\left(\\begin{array}{r}\n",
       "-\\frac{6569}{4080} \\, \\sqrt{3} \\sqrt{2} - \\frac{46513}{20400} \\, \\sqrt{3} - \\frac{22533}{6800} \\, \\sqrt{2} + \\frac{13147}{816} \\\\\n",
       "-\\frac{1504349779139 \\, \\sqrt{3} \\sqrt{2}}{145800 \\, {\\left(10141740 \\, \\sqrt{2} + 14342689\\right)}} - \\frac{6807964258873 \\, \\sqrt{3}}{466560 \\, {\\left(10141740 \\, \\sqrt{2} + 14342689\\right)}} + \\frac{698763601463 \\, \\sqrt{2}}{38880 \\, {\\left(10141740 \\, \\sqrt{2} + 14342689\\right)}} + \\frac{30101932999183}{1166400 \\, {\\left(10141740 \\, \\sqrt{2} + 14342689\\right)}} \\\\\n",
       "\\frac{27549505902847 \\, \\sqrt{3} \\sqrt{2}}{291600 \\, {\\left(253462812 \\, \\sqrt{2} + 361618577\\right)}} + \\frac{311642980476091 \\, \\sqrt{3}}{2332800 \\, {\\left(253462812 \\, \\sqrt{2} + 361618577\\right)}} + \\frac{92685272269117 \\, \\sqrt{2}}{583200 \\, {\\left(253462812 \\, \\sqrt{2} + 361618577\\right)}} + \\frac{22042322500769}{77760 \\, {\\left(253462812 \\, \\sqrt{2} + 361618577\\right)}} \\\\\n",
       "0 \\\\\n",
       "\\frac{196097797}{2661141600} \\, \\sqrt{3} \\sqrt{2} + \\frac{4431136171}{42578265600} \\, \\sqrt{3} + \\frac{4506347}{41990400} \\, \\sqrt{2} + \\frac{5525608117}{21289132800}\n",
       "\\end{array}\\right)</script></html>"
      ],
      "text/plain": [
       "[                                                                                                                                                                             -6569/4080*sqrt(3)*sqrt(2) - 46513/20400*sqrt(3) - 22533/6800*sqrt(2) + 13147/816]\n",
       "[            -1504349779139/145800*sqrt(3)*sqrt(2)/(10141740*sqrt(2) + 14342689) - 6807964258873/466560*sqrt(3)/(10141740*sqrt(2) + 14342689) + 698763601463/38880*sqrt(2)/(10141740*sqrt(2) + 14342689) + 30101932999183/1166400/(10141740*sqrt(2) + 14342689)]\n",
       "[27549505902847/291600*sqrt(3)*sqrt(2)/(253462812*sqrt(2) + 361618577) + 311642980476091/2332800*sqrt(3)/(253462812*sqrt(2) + 361618577) + 92685272269117/583200*sqrt(2)/(253462812*sqrt(2) + 361618577) + 22042322500769/77760/(253462812*sqrt(2) + 361618577)]\n",
       "[                                                                                                                                                                                                                                                             0]\n",
       "[                                                                                                                                     196097797/2661141600*sqrt(3)*sqrt(2) + 4431136171/42578265600*sqrt(3) + 4506347/41990400*sqrt(2) + 5525608117/21289132800]"
      ]
     },
     "metadata": {},
     "output_type": "display_data"
    }
   ],
   "source": [
    "# final EBLUPNE based on NE\n",
    "EBLUPNEsimp = EBLUPNE(MDOOLSE).column().expand()\n",
    "show(EBLUPNEsimp)"
   ]
  },
  {
   "cell_type": "code",
   "execution_count": 32,
   "metadata": {
    "ExecuteTime": {
     "end_time": "2019-05-10T17:02:54.415000Z",
     "start_time": "2019-05-10T17:02:54.352Z"
    }
   },
   "outputs": [
    {
     "data": {
      "text/plain": [
       "[                      1]\n",
       "[0.063442013996488589587]\n",
       "[ 0.72365795262659512283]\n",
       "[                      0]\n",
       "[ 0.60913484862207232793]"
      ]
     },
     "execution_count": 32,
     "metadata": {},
     "output_type": "execute_result"
    }
   ],
   "source": [
    "# numerical results\n",
    "rho2(MDOOLSEnum).column()"
   ]
  },
  {
   "cell_type": "code",
   "execution_count": 33,
   "metadata": {
    "ExecuteTime": {
     "end_time": "2019-05-10T17:02:54.417000Z",
     "start_time": "2019-05-10T17:02:54.355Z"
    }
   },
   "outputs": [
    {
     "data": {
      "text/plain": [
       "[  3.5323140972047290984]\n",
       "[0.023596303858387770044]\n",
       "[  1.3485217062362661184]\n",
       "[ 0.00000000000000000000]\n",
       "[ 0.77207842062847667565]"
      ]
     },
     "execution_count": 33,
     "metadata": {},
     "output_type": "execute_result"
    }
   ],
   "source": [
    "EBLUPNEnum = RRk_matrix(EBLUPNEsimp)\n",
    "EBLUPNEnum "
   ]
  },
  {
   "cell_type": "code",
   "execution_count": 34,
   "metadata": {
    "ExecuteTime": {
     "end_time": "2019-05-10T17:02:54.419000Z",
     "start_time": "2019-05-10T17:02:54.358Z"
    }
   },
   "outputs": [
    {
     "data": {
      "text/plain": [
       "3.859069259116448"
      ]
     },
     "execution_count": 34,
     "metadata": {},
     "output_type": "execute_result"
    }
   ],
   "source": [
    "EBLUPNEnum.norm()"
   ]
  },
  {
   "cell_type": "markdown",
   "metadata": {},
   "source": [
    "***\n",
    "<a id=references></a>\n",
    "# <font color=brown> References </font>\n",
    "This notebook belongs to suplementary materials of the paper submitted to Statistical Papers and available at <https://arxiv.org/abs/1905.07771>.\n",
    "\n",
    "* Hančová, M., Vozáriková, G., Gajdoš, A., Hanč, J. (2019). [Estimating variance components in time series\n",
    "\tlinear regression models using empirical BLUPs and convex optimization](https://arxiv.org/abs/1905.07771), https://arxiv.org/, 2019.\n",
    "\n",
    "### Abstract of the paper\n",
    "\n",
    "We propose a two-stage estimation method of variance components in time series models known as FDSLRMs, whose observations can be described by a linear mixed model (LMM). We based estimating variances, fundamental quantities in a time series forecasting approach called kriging, on the empirical (plug-in) best linear unbiased predictions of unobservable random components in FDSLRM. \n",
    "\n",
    "The method, providing invariant non-negative quadratic estimators, can be used for any absolutely continuous probability distribution of time series data. As a result of applying the convex optimization and the LMM methodology, we resolved two problems $-$ theoretical existence and equivalence between least squares estimators, non-negative (M)DOOLSE, and maximum likelihood estimators, (RE)MLE, as possible starting points of our method and a \n",
    "practical lack of computational implementation for FDSLRM. As for computing (RE)MLE in the case of $ n $ observed time series values, we also discovered a new algorithm of order $\\mathcal{O}(n)$, which at the default precision is $10^7$ times more accurate and $n^2$ times faster than the best current Python(or R)-based computational packages, namely CVXPY, CVXR, nlme, sommer and mixed. \n",
    "\n",
    "We illustrate our results on three real data sets $-$ electricity consumption, tourism and cyber security $-$ which are easily available, reproducible, sharable and modifiable in the form of interactive Jupyter notebooks."
   ]
  },
  {
   "cell_type": "markdown",
   "metadata": {},
   "source": [
    "* Gajdoš, A., Hančová, M., Hanč, J. (2017). [Kriging Methodology and Its Development in Forecasting Econometric Time Series](https://www.czso.cz/csu/czso/statistika-statistics-and-economy-journal-no-12017). _Statistica: Statistics and Economy Journal_, 2017, Vol. 97, No. 1, pp. 59–73\n",
    "$~$\n",
    "* Štulajter, F., Witkovský, V. (2004). [Estimation of Variances in Orthogonal Finite\n",
    "Discrete Spectrum Linear Regression Models](https://link.springer.com/article/10.1007/s001840300299). _Metrika_, 2004, Vol. 60, No. 2, pp. 105–118"
   ]
  },
  {
   "cell_type": "markdown",
   "metadata": {},
   "source": [
    "| [Table of Contents](#table_of_contents) | [Data and model](#data_and_model) | [Natural estimators](#natural_estimators) |  [NN-DOOLSE, MLE](#doolse) | [NN-MDOOLSE, REMLE](#mdoolse) | [References](#references) |"
   ]
  }
 ],
 "metadata": {
  "kernelspec": {
   "display_name": "SageMath 8.3",
   "language": "",
   "name": "sagemath"
  },
  "language_info": {
   "codemirror_mode": {
    "name": "ipython",
    "version": 2
   },
   "file_extension": ".py",
   "mimetype": "text/x-python",
   "name": "python",
   "nbconvert_exporter": "python",
   "pygments_lexer": "ipython2",
   "version": "2.7.15"
  },
  "varInspector": {
   "cols": {
    "lenName": 16,
    "lenType": 16,
    "lenVar": 40
   },
   "kernels_config": {
    "python": {
     "delete_cmd_postfix": "",
     "delete_cmd_prefix": "del ",
     "library": "var_list.py",
     "varRefreshCmd": "print(var_dic_list())"
    },
    "r": {
     "delete_cmd_postfix": ") ",
     "delete_cmd_prefix": "rm(",
     "library": "var_list.r",
     "varRefreshCmd": "cat(var_dic_list()) "
    }
   },
   "types_to_exclude": [
    "module",
    "function",
    "builtin_function_or_method",
    "instance",
    "_Feature"
   ],
   "window_display": false
  }
 },
 "nbformat": 4,
 "nbformat_minor": 2
}
